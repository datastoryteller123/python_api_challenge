{
 "cells": [
  {
   "cell_type": "markdown",
   "metadata": {},
   "source": [
    "# WeatherPy\n",
    "----\n",
    "\n",
    "#### Note\n",
    "* Instructions have been included for each segment. You do not have to follow them exactly, but they are included to help you think through the steps."
   ]
  },
  {
   "cell_type": "code",
   "execution_count": 103,
   "metadata": {
    "scrolled": true
   },
   "outputs": [],
   "source": [
    "# Dependencies and Setup\n",
    "import matplotlib.pyplot as plt\n",
    "import pandas as pd\n",
    "import numpy as np\n",
    "import requests\n",
    "import time\n",
    "from scipy.stats import linregress\n",
    "import json\n",
    "from scipy import stats\n",
    "\n",
    "# Import API key\n",
    "from api_keys import weather_api_key\n",
    "\n",
    "# Incorporated citipy to determine city based on latitude and longitude\n",
    "from citipy import citipy\n",
    "\n",
    "# Output File (CSV)\n",
    "output_data_file = \"output_data/cities.csv\"\n",
    "\n",
    "# Range of latitudes and longitudes\n",
    "lat_range = (-90, 90)\n",
    "lng_range = (-180, 180)"
   ]
  },
  {
   "cell_type": "markdown",
   "metadata": {},
   "source": [
    "## Generate Cities List"
   ]
  },
  {
   "cell_type": "code",
   "execution_count": 104,
   "metadata": {},
   "outputs": [
    {
     "data": {
      "text/plain": [
       "614"
      ]
     },
     "execution_count": 104,
     "metadata": {},
     "output_type": "execute_result"
    }
   ],
   "source": [
    "# List for holding lat_lngs and cities\n",
    "lat_lngs = []\n",
    "cities = []\n",
    "\n",
    "# Create a set of random lat and lng combinations\n",
    "lats = np.random.uniform(lat_range[0], lat_range[1], size=1500)\n",
    "lngs = np.random.uniform(lng_range[0], lng_range[1], size=1500)\n",
    "lat_lngs = zip(lats, lngs)\n",
    "\n",
    "# Identify nearest city for each lat, lng combination\n",
    "for lat_lng in lat_lngs:\n",
    "    city = citipy.nearest_city(lat_lng[0], lat_lng[1]).city_name\n",
    "    \n",
    "    # If the city is unique, then add it to a our cities list\n",
    "    if city not in cities:\n",
    "        cities.append(city)\n",
    "\n",
    "# Print the city count to confirm sufficient count\n",
    "len(cities)"
   ]
  },
  {
   "cell_type": "markdown",
   "metadata": {},
   "source": [
    "### Perform API Calls\n",
    "* Perform a weather check on each city using a series of successive API calls.\n",
    "* Include a print log of each city as it'sbeing processed (with the city number and city name).\n"
   ]
  },
  {
   "cell_type": "code",
   "execution_count": 105,
   "metadata": {},
   "outputs": [],
   "source": [
    "# Set up lists\n",
    "City = []\n",
    "Lat = []\n",
    "Lng = []\n",
    "Max_Temp = []\n",
    "Humidity = []\n",
    "Cloudiness = []\n",
    "Wind_Speed = []\n",
    "Country = []\n",
    "Date = []\n",
    "Index_Count = 0\n",
    "Count = 1"
   ]
  },
  {
   "cell_type": "code",
   "execution_count": 106,
   "metadata": {},
   "outputs": [],
   "source": [
    "# Save API_key information\n",
    "url = \"http://api.openweathermap.org/data/2.5/weather?\"\n",
    "units = \"imperial\"\n",
    "\n",
    "# Build Query URL\n",
    "query_url = f\"{url}appid={weather_api_key}&units={units}&q=\""
   ]
  },
  {
   "cell_type": "code",
   "execution_count": 107,
   "metadata": {},
   "outputs": [
    {
     "name": "stdout",
     "output_type": "stream",
     "text": [
      "Beginning Data Retrieval\n",
      "------------------------\n",
      "City not found. Skipping...\n",
      "Processing Record 1 of Set 1 : da nang\n",
      "Processing Record 2 of Set 1 : tiksi\n",
      "Processing Record 3 of Set 1 : qaanaaq\n",
      "Processing Record 4 of Set 1 : colquechaca\n",
      "Processing Record 5 of Set 1 : bendigo\n",
      "Processing Record 6 of Set 1 : mackay\n",
      "Processing Record 7 of Set 1 : mataura\n",
      "Processing Record 8 of Set 1 : hobart\n",
      "Processing Record 9 of Set 1 : boldumsaz\n",
      "Processing Record 10 of Set 1 : airai\n",
      "City not found. Skipping...\n",
      "Processing Record 11 of Set 1 : quatre cocos\n",
      "City not found. Skipping...\n",
      "Processing Record 12 of Set 1 : luanda\n",
      "Processing Record 13 of Set 1 : touros\n",
      "Processing Record 14 of Set 1 : tecoanapa\n",
      "Processing Record 15 of Set 1 : rikitea\n",
      "Processing Record 16 of Set 1 : puerto ayora\n",
      "Processing Record 17 of Set 1 : butaritari\n",
      "Processing Record 18 of Set 1 : vaini\n",
      "Processing Record 19 of Set 1 : mar del plata\n",
      "Processing Record 20 of Set 1 : thompson\n",
      "Processing Record 21 of Set 1 : albany\n",
      "Processing Record 22 of Set 1 : yabelo\n",
      "Processing Record 23 of Set 1 : hermanus\n",
      "Processing Record 24 of Set 1 : baherden\n",
      "Processing Record 25 of Set 1 : atuona\n",
      "Processing Record 26 of Set 1 : tuktoyaktuk\n",
      "Processing Record 27 of Set 1 : umm lajj\n",
      "Processing Record 28 of Set 1 : skibotn\n",
      "Processing Record 29 of Set 1 : bandarbeyla\n",
      "Processing Record 30 of Set 1 : barrow\n",
      "Processing Record 31 of Set 1 : najran\n",
      "Processing Record 32 of Set 1 : ushuaia\n",
      "Processing Record 33 of Set 1 : aksu\n",
      "Processing Record 34 of Set 1 : fort saint james\n",
      "Processing Record 35 of Set 1 : hilo\n",
      "Processing Record 36 of Set 1 : moncada\n",
      "Processing Record 37 of Set 1 : ancud\n",
      "Processing Record 38 of Set 1 : new norfolk\n",
      "Processing Record 39 of Set 1 : narsaq\n",
      "City not found. Skipping...\n",
      "Processing Record 40 of Set 1 : ahipara\n",
      "Processing Record 41 of Set 1 : wewak\n",
      "Processing Record 42 of Set 1 : saint pete beach\n",
      "City not found. Skipping...\n",
      "Processing Record 43 of Set 1 : clyde river\n",
      "Processing Record 44 of Set 1 : lodja\n",
      "Processing Record 45 of Set 1 : chimbote\n",
      "Processing Record 46 of Set 1 : vestmannaeyjar\n",
      "Processing Record 47 of Set 1 : provideniya\n",
      "Processing Record 48 of Set 1 : yellowknife\n",
      "Processing Record 49 of Set 1 : punta arenas\n",
      "Processing Record 50 of Set 1 : anadyr\n",
      "Processing Record 0 of Set 2 : iwaki\n",
      "Processing Record 1 of Set 2 : sao raimundo nonato\n",
      "Processing Record 2 of Set 2 : tasiilaq\n",
      "Processing Record 3 of Set 2 : lampazos de naranjo\n",
      "Processing Record 4 of Set 2 : san patricio\n",
      "Processing Record 5 of Set 2 : busselton\n",
      "Processing Record 6 of Set 2 : port alfred\n",
      "City not found. Skipping...\n",
      "Processing Record 7 of Set 2 : touho\n",
      "Processing Record 8 of Set 2 : flinders\n",
      "Processing Record 9 of Set 2 : dikson\n",
      "Processing Record 10 of Set 2 : lakshmipur\n",
      "Processing Record 11 of Set 2 : pulandian\n",
      "Processing Record 12 of Set 2 : cherskiy\n",
      "Processing Record 13 of Set 2 : alice springs\n",
      "Processing Record 14 of Set 2 : saint-philippe\n",
      "Processing Record 15 of Set 2 : sorong\n",
      "Processing Record 16 of Set 2 : east london\n",
      "Processing Record 17 of Set 2 : muli\n",
      "Processing Record 18 of Set 2 : hasaki\n",
      "Processing Record 19 of Set 2 : cape town\n",
      "Processing Record 20 of Set 2 : dali\n",
      "Processing Record 21 of Set 2 : angoche\n",
      "Processing Record 22 of Set 2 : felipe carrillo puerto\n",
      "Processing Record 23 of Set 2 : nefteyugansk\n",
      "Processing Record 24 of Set 2 : kodiak\n",
      "Processing Record 25 of Set 2 : kapaa\n",
      "City not found. Skipping...\n",
      "Processing Record 26 of Set 2 : kapoeta\n",
      "Processing Record 27 of Set 2 : bengkulu\n",
      "Processing Record 28 of Set 2 : yakeshi\n",
      "Processing Record 29 of Set 2 : khatanga\n",
      "Processing Record 30 of Set 2 : georgetown\n",
      "Processing Record 31 of Set 2 : oktyabrskiy\n",
      "Processing Record 32 of Set 2 : rawson\n",
      "Processing Record 33 of Set 2 : youghal\n",
      "Processing Record 34 of Set 2 : trojan\n",
      "Processing Record 35 of Set 2 : sorland\n",
      "Processing Record 36 of Set 2 : petropavlovsk-kamchatskiy\n",
      "Processing Record 37 of Set 2 : juneau\n",
      "Processing Record 38 of Set 2 : jamestown\n",
      "City not found. Skipping...\n",
      "Processing Record 39 of Set 2 : poya\n",
      "City not found. Skipping...\n",
      "Processing Record 40 of Set 2 : chuy\n",
      "City not found. Skipping...\n",
      "City not found. Skipping...\n",
      "Processing Record 41 of Set 2 : la baule-escoublac\n",
      "Processing Record 42 of Set 2 : sibolga\n",
      "Processing Record 43 of Set 2 : tarnogskiy gorodok\n",
      "Processing Record 44 of Set 2 : barra\n",
      "Processing Record 45 of Set 2 : arshan\n",
      "City not found. Skipping...\n",
      "Processing Record 46 of Set 2 : channel-port aux basques\n",
      "City not found. Skipping...\n",
      "Processing Record 47 of Set 2 : nalgonda\n",
      "City not found. Skipping...\n",
      "Processing Record 48 of Set 2 : bluff\n",
      "Processing Record 49 of Set 2 : fortuna\n",
      "Processing Record 50 of Set 2 : tokmak\n",
      "Processing Record 0 of Set 3 : bredasdorp\n",
      "Processing Record 1 of Set 3 : cao bang\n",
      "City not found. Skipping...\n",
      "Processing Record 2 of Set 3 : mount gambier\n",
      "Processing Record 3 of Set 3 : taoudenni\n",
      "Processing Record 4 of Set 3 : gaillac\n",
      "Processing Record 5 of Set 3 : port elizabeth\n",
      "Processing Record 6 of Set 3 : arraial do cabo\n",
      "Processing Record 7 of Set 3 : ca mau\n",
      "Processing Record 8 of Set 3 : pevek\n",
      "Processing Record 9 of Set 3 : ponta delgada\n",
      "Processing Record 10 of Set 3 : port hedland\n",
      "Processing Record 11 of Set 3 : dunedin\n",
      "Processing Record 12 of Set 3 : geraldton\n",
      "City not found. Skipping...\n",
      "Processing Record 13 of Set 3 : selizharovo\n",
      "Processing Record 14 of Set 3 : tautira\n",
      "Processing Record 15 of Set 3 : pangkalanbuun\n",
      "Processing Record 16 of Set 3 : lokoshaza\n",
      "Processing Record 17 of Set 3 : port-gentil\n",
      "Processing Record 18 of Set 3 : hohoe\n",
      "Processing Record 19 of Set 3 : halifax\n",
      "Processing Record 20 of Set 3 : yaan\n",
      "Processing Record 21 of Set 3 : hualmay\n",
      "Processing Record 22 of Set 3 : del rio\n",
      "Processing Record 23 of Set 3 : kushmurun\n",
      "Processing Record 24 of Set 3 : victoria\n",
      "Processing Record 25 of Set 3 : santa fe\n",
      "Processing Record 26 of Set 3 : neuquen\n",
      "Processing Record 27 of Set 3 : aklavik\n",
      "Processing Record 28 of Set 3 : huilong\n",
      "Processing Record 29 of Set 3 : san andres\n",
      "Processing Record 30 of Set 3 : great yarmouth\n",
      "Processing Record 31 of Set 3 : hofn\n",
      "Processing Record 32 of Set 3 : los llanos de aridane\n",
      "Processing Record 33 of Set 3 : french harbor\n",
      "Processing Record 34 of Set 3 : fremont\n",
      "City not found. Skipping...\n",
      "Processing Record 35 of Set 3 : creel\n",
      "City not found. Skipping...\n",
      "Processing Record 36 of Set 3 : mareeba\n",
      "Processing Record 37 of Set 3 : namibe\n",
      "Processing Record 38 of Set 3 : pangnirtung\n",
      "Processing Record 39 of Set 3 : carnarvon\n",
      "Processing Record 40 of Set 3 : samarai\n",
      "Processing Record 41 of Set 3 : klaksvik\n",
      "Processing Record 42 of Set 3 : solnechnyy\n",
      "Processing Record 43 of Set 3 : la ronge\n",
      "City not found. Skipping...\n",
      "Processing Record 44 of Set 3 : yulara\n",
      "Processing Record 45 of Set 3 : teguise\n",
      "Processing Record 46 of Set 3 : longyearbyen\n",
      "City not found. Skipping...\n",
      "Processing Record 47 of Set 3 : mersin\n",
      "Processing Record 48 of Set 3 : karasjok\n",
      "Processing Record 49 of Set 3 : eureka\n",
      "Processing Record 50 of Set 3 : tombouctou\n",
      "Processing Record 0 of Set 4 : castro\n",
      "Processing Record 1 of Set 4 : bilma\n",
      "Processing Record 2 of Set 4 : pisco\n",
      "Processing Record 3 of Set 4 : morden\n",
      "Processing Record 4 of Set 4 : nabire\n",
      "Processing Record 5 of Set 4 : nikolskoye\n",
      "Processing Record 6 of Set 4 : naze\n",
      "Processing Record 7 of Set 4 : hithadhoo\n",
      "Processing Record 8 of Set 4 : tadine\n",
      "Processing Record 9 of Set 4 : dukat\n",
      "Processing Record 10 of Set 4 : llandrindod wells\n",
      "Processing Record 11 of Set 4 : saint-felicien\n",
      "Processing Record 12 of Set 4 : yakymivka\n",
      "Processing Record 13 of Set 4 : saveh\n",
      "Processing Record 14 of Set 4 : saint-augustin\n",
      "Processing Record 15 of Set 4 : thinadhoo\n",
      "Processing Record 16 of Set 4 : hokitika\n",
      "Processing Record 17 of Set 4 : macae\n",
      "Processing Record 18 of Set 4 : tibati\n",
      "Processing Record 19 of Set 4 : vanino\n",
      "Processing Record 20 of Set 4 : canto do buriti\n",
      "Processing Record 21 of Set 4 : kot kapura\n",
      "Processing Record 22 of Set 4 : shache\n",
      "Processing Record 23 of Set 4 : ribeira grande\n",
      "Processing Record 24 of Set 4 : komsomolskiy\n",
      "Processing Record 25 of Set 4 : upernavik\n",
      "Processing Record 26 of Set 4 : samana\n",
      "Processing Record 27 of Set 4 : salalah\n",
      "Processing Record 28 of Set 4 : cayenne\n",
      "Processing Record 29 of Set 4 : sisimiut\n",
      "Processing Record 30 of Set 4 : sao filipe\n"
     ]
    },
    {
     "name": "stdout",
     "output_type": "stream",
     "text": [
      "Processing Record 31 of Set 4 : rio grande\n",
      "City not found. Skipping...\n",
      "Processing Record 32 of Set 4 : vestmanna\n",
      "Processing Record 33 of Set 4 : aquiraz\n",
      "Processing Record 34 of Set 4 : bambous virieux\n",
      "Processing Record 35 of Set 4 : tuatapere\n",
      "Processing Record 36 of Set 4 : atambua\n",
      "Processing Record 37 of Set 4 : acarau\n",
      "Processing Record 38 of Set 4 : torbay\n",
      "Processing Record 39 of Set 4 : vila do maio\n",
      "Processing Record 40 of Set 4 : cidreira\n",
      "Processing Record 41 of Set 4 : grindavik\n",
      "Processing Record 42 of Set 4 : lagoa\n",
      "Processing Record 43 of Set 4 : college\n",
      "Processing Record 44 of Set 4 : sheridan\n",
      "Processing Record 45 of Set 4 : balkhash\n",
      "Processing Record 46 of Set 4 : liepaja\n",
      "Processing Record 47 of Set 4 : praia da vitoria\n",
      "Processing Record 48 of Set 4 : waingapu\n",
      "Processing Record 49 of Set 4 : kintinku\n",
      "Processing Record 50 of Set 4 : isangel\n",
      "Processing Record 0 of Set 5 : high prairie\n",
      "Processing Record 1 of Set 5 : esperance\n",
      "Processing Record 2 of Set 5 : laguna\n",
      "City not found. Skipping...\n",
      "Processing Record 3 of Set 5 : tsumeb\n",
      "Processing Record 4 of Set 5 : qaqortoq\n",
      "Processing Record 5 of Set 5 : ilulissat\n",
      "Processing Record 6 of Set 5 : nacala\n",
      "Processing Record 7 of Set 5 : bolzano\n",
      "Processing Record 8 of Set 5 : chicama\n",
      "Processing Record 9 of Set 5 : makkaveyevo\n",
      "Processing Record 10 of Set 5 : taonan\n",
      "Processing Record 11 of Set 5 : port lincoln\n",
      "Processing Record 12 of Set 5 : kahului\n",
      "Processing Record 13 of Set 5 : berlevag\n",
      "Processing Record 14 of Set 5 : mutoko\n",
      "Processing Record 15 of Set 5 : sesheke\n",
      "Processing Record 16 of Set 5 : tonantins\n",
      "Processing Record 17 of Set 5 : ponta do sol\n",
      "Processing Record 18 of Set 5 : akoupe\n",
      "Processing Record 19 of Set 5 : cabo san lucas\n",
      "Processing Record 20 of Set 5 : sitka\n",
      "Processing Record 21 of Set 5 : batagay-alyta\n",
      "Processing Record 22 of Set 5 : bull savanna\n",
      "Processing Record 23 of Set 5 : roseburg\n",
      "Processing Record 24 of Set 5 : faanui\n",
      "Processing Record 25 of Set 5 : sobolevo\n",
      "Processing Record 26 of Set 5 : ayan\n",
      "Processing Record 27 of Set 5 : severo-kurilsk\n",
      "City not found. Skipping...\n",
      "Processing Record 28 of Set 5 : hvolsvollur\n",
      "Processing Record 29 of Set 5 : sunrise manor\n",
      "Processing Record 30 of Set 5 : methoni\n",
      "Processing Record 31 of Set 5 : saint-joseph\n",
      "Processing Record 32 of Set 5 : chokurdakh\n",
      "Processing Record 33 of Set 5 : tecoman\n",
      "Processing Record 34 of Set 5 : kysyl-syr\n",
      "Processing Record 35 of Set 5 : sikeston\n",
      "Processing Record 36 of Set 5 : guerrero negro\n",
      "Processing Record 37 of Set 5 : axim\n",
      "Processing Record 38 of Set 5 : sal rei\n",
      "Processing Record 39 of Set 5 : hun\n",
      "Processing Record 40 of Set 5 : santa cruz\n",
      "Processing Record 41 of Set 5 : hambantota\n",
      "Processing Record 42 of Set 5 : avarua\n",
      "Processing Record 43 of Set 5 : hami\n",
      "Processing Record 44 of Set 5 : tateyama\n",
      "Processing Record 45 of Set 5 : pavilosta\n",
      "Processing Record 46 of Set 5 : mitsamiouli\n",
      "Processing Record 47 of Set 5 : manchester\n",
      "Processing Record 48 of Set 5 : karratha\n",
      "Processing Record 49 of Set 5 : manggar\n",
      "Processing Record 50 of Set 5 : constitucion\n",
      "Processing Record 0 of Set 6 : tilichiki\n",
      "Processing Record 1 of Set 6 : hwange\n",
      "Processing Record 2 of Set 6 : mahebourg\n",
      "Processing Record 3 of Set 6 : zyryanka\n",
      "Processing Record 4 of Set 6 : ucluelet\n",
      "City not found. Skipping...\n",
      "Processing Record 5 of Set 6 : japura\n",
      "Processing Record 6 of Set 6 : coquimbo\n",
      "Processing Record 7 of Set 6 : harindanga\n",
      "Processing Record 8 of Set 6 : dashitou\n",
      "Processing Record 9 of Set 6 : asau\n",
      "City not found. Skipping...\n",
      "Processing Record 10 of Set 6 : buala\n",
      "City not found. Skipping...\n",
      "Processing Record 11 of Set 6 : bilibino\n",
      "Processing Record 12 of Set 6 : dingle\n",
      "Processing Record 13 of Set 6 : ambovombe\n",
      "Processing Record 14 of Set 6 : wentzville\n",
      "Processing Record 15 of Set 6 : khasan\n",
      "Processing Record 16 of Set 6 : shingu\n",
      "Processing Record 17 of Set 6 : saskylakh\n",
      "Processing Record 18 of Set 6 : cap-aux-meules\n",
      "Processing Record 19 of Set 6 : imbituba\n",
      "Processing Record 20 of Set 6 : kralendijk\n",
      "Processing Record 21 of Set 6 : caravelas\n",
      "Processing Record 22 of Set 6 : pafos\n",
      "Processing Record 23 of Set 6 : caruray\n",
      "Processing Record 24 of Set 6 : lasa\n",
      "Processing Record 25 of Set 6 : honningsvag\n",
      "Processing Record 26 of Set 6 : acajutla\n",
      "Processing Record 27 of Set 6 : aguada de pasajeros\n",
      "Processing Record 28 of Set 6 : madang\n",
      "Processing Record 29 of Set 6 : port hardy\n",
      "Processing Record 30 of Set 6 : ayolas\n",
      "Processing Record 31 of Set 6 : portland\n",
      "City not found. Skipping...\n",
      "Processing Record 32 of Set 6 : hede\n",
      "City not found. Skipping...\n",
      "Processing Record 33 of Set 6 : wajima\n",
      "Processing Record 34 of Set 6 : sechura\n",
      "Processing Record 35 of Set 6 : meadow lake\n",
      "City not found. Skipping...\n",
      "Processing Record 36 of Set 6 : kruisfontein\n",
      "Processing Record 37 of Set 6 : yangshan\n",
      "Processing Record 38 of Set 6 : nome\n",
      "Processing Record 39 of Set 6 : soyo\n",
      "Processing Record 40 of Set 6 : fairbanks\n",
      "Processing Record 41 of Set 6 : suluq\n",
      "Processing Record 42 of Set 6 : ust-tsilma\n",
      "Processing Record 43 of Set 6 : saint george\n",
      "Processing Record 44 of Set 6 : idah\n",
      "Processing Record 45 of Set 6 : iqaluit\n",
      "Processing Record 46 of Set 6 : ugoofaaru\n",
      "Processing Record 47 of Set 6 : nishihara\n",
      "Processing Record 48 of Set 6 : yorosso\n",
      "Processing Record 49 of Set 6 : nguruka\n",
      "Processing Record 50 of Set 6 : jian\n",
      "Processing Record 0 of Set 7 : sur\n",
      "Processing Record 1 of Set 7 : malumfashi\n",
      "Processing Record 2 of Set 7 : borovskoy\n",
      "Processing Record 3 of Set 7 : baculin\n",
      "Processing Record 4 of Set 7 : northam\n",
      "Processing Record 5 of Set 7 : coihueco\n",
      "City not found. Skipping...\n",
      "Processing Record 6 of Set 7 : kavieng\n",
      "Processing Record 7 of Set 7 : coihaique\n",
      "Processing Record 8 of Set 7 : namatanai\n",
      "Processing Record 9 of Set 7 : acapulco\n",
      "Processing Record 10 of Set 7 : kenai\n",
      "Processing Record 11 of Set 7 : iroquois falls\n",
      "Processing Record 12 of Set 7 : madinat sittah uktubar\n",
      "Processing Record 13 of Set 7 : san jose\n",
      "Processing Record 14 of Set 7 : polignano a mare\n",
      "Processing Record 15 of Set 7 : vanimo\n",
      "Processing Record 16 of Set 7 : caucaia\n",
      "Processing Record 17 of Set 7 : saint-louis\n",
      "Processing Record 18 of Set 7 : vanderhoof\n",
      "Processing Record 19 of Set 7 : henties bay\n",
      "City not found. Skipping...\n",
      "Processing Record 20 of Set 7 : kawalu\n",
      "Processing Record 21 of Set 7 : sao joao da barra\n",
      "Processing Record 22 of Set 7 : norman wells\n",
      "Processing Record 23 of Set 7 : waipawa\n",
      "Processing Record 24 of Set 7 : impfondo\n",
      "City not found. Skipping...\n",
      "Processing Record 25 of Set 7 : verkh-usugli\n",
      "Processing Record 26 of Set 7 : zonguldak\n",
      "Processing Record 27 of Set 7 : sao jose da coroa grande\n",
      "Processing Record 28 of Set 7 : tucumcari\n",
      "Processing Record 29 of Set 7 : tomatlan\n",
      "Processing Record 30 of Set 7 : alanya\n",
      "Processing Record 31 of Set 7 : konya\n",
      "Processing Record 32 of Set 7 : pilar\n",
      "Processing Record 33 of Set 7 : velsk\n",
      "Processing Record 34 of Set 7 : lorengau\n",
      "Processing Record 35 of Set 7 : olafsvik\n",
      "Processing Record 36 of Set 7 : luderitz\n",
      "Processing Record 37 of Set 7 : port hawkesbury\n",
      "City not found. Skipping...\n",
      "Processing Record 38 of Set 7 : talnakh\n",
      "Processing Record 39 of Set 7 : maple creek\n",
      "Processing Record 40 of Set 7 : talara\n",
      "Processing Record 41 of Set 7 : kerman\n",
      "Processing Record 42 of Set 7 : sison\n",
      "Processing Record 43 of Set 7 : koulikoro\n",
      "Processing Record 44 of Set 7 : bathsheba\n",
      "Processing Record 45 of Set 7 : penzance\n",
      "Processing Record 46 of Set 7 : umm kaddadah\n",
      "Processing Record 47 of Set 7 : tura\n",
      "Processing Record 48 of Set 7 : mecca\n",
      "Processing Record 49 of Set 7 : atar\n",
      "Processing Record 50 of Set 7 : mount isa\n",
      "Processing Record 0 of Set 8 : voi\n",
      "Processing Record 1 of Set 8 : jieshi\n",
      "Processing Record 2 of Set 8 : sahuaripa\n",
      "Processing Record 3 of Set 8 : roebourne\n",
      "Processing Record 4 of Set 8 : bethel\n",
      "Processing Record 5 of Set 8 : linxia\n",
      "Processing Record 6 of Set 8 : marawi\n",
      "Processing Record 7 of Set 8 : ust-maya\n",
      "Processing Record 8 of Set 8 : berezovyy\n",
      "Processing Record 9 of Set 8 : vardo\n",
      "Processing Record 10 of Set 8 : oktyabrskoye\n",
      "Processing Record 11 of Set 8 : san quintin\n",
      "Processing Record 12 of Set 8 : peniche\n",
      "Processing Record 13 of Set 8 : sioux lookout\n",
      "Processing Record 14 of Set 8 : north platte\n",
      "Processing Record 15 of Set 8 : elat\n",
      "Processing Record 16 of Set 8 : nelson bay\n",
      "Processing Record 17 of Set 8 : boyuibe\n"
     ]
    },
    {
     "name": "stdout",
     "output_type": "stream",
     "text": [
      "Processing Record 18 of Set 8 : mombetsu\n",
      "Processing Record 19 of Set 8 : mayya\n",
      "Processing Record 20 of Set 8 : urumqi\n",
      "Processing Record 21 of Set 8 : metro\n",
      "Processing Record 22 of Set 8 : san cristobal\n",
      "Processing Record 23 of Set 8 : vangaindrano\n",
      "Processing Record 24 of Set 8 : kutum\n",
      "Processing Record 25 of Set 8 : hollins\n",
      "Processing Record 26 of Set 8 : maridi\n",
      "Processing Record 27 of Set 8 : taltal\n",
      "City not found. Skipping...\n",
      "Processing Record 28 of Set 8 : corowa\n",
      "Processing Record 29 of Set 8 : havelock\n",
      "Processing Record 30 of Set 8 : uinskoye\n",
      "Processing Record 31 of Set 8 : batsfjord\n",
      "Processing Record 32 of Set 8 : samarinda\n",
      "Processing Record 33 of Set 8 : tabou\n",
      "Processing Record 34 of Set 8 : kholtoson\n",
      "Processing Record 35 of Set 8 : san carlos\n",
      "Processing Record 36 of Set 8 : vredendal\n",
      "City not found. Skipping...\n",
      "Processing Record 37 of Set 8 : mul\n",
      "Processing Record 38 of Set 8 : nkhotakota\n",
      "Processing Record 39 of Set 8 : davenda\n",
      "Processing Record 40 of Set 8 : salinopolis\n",
      "City not found. Skipping...\n",
      "Processing Record 41 of Set 8 : altus\n",
      "Processing Record 42 of Set 8 : kuching\n",
      "Processing Record 43 of Set 8 : deer lake\n",
      "Processing Record 44 of Set 8 : barguzin\n",
      "Processing Record 45 of Set 8 : te anau\n",
      "Processing Record 46 of Set 8 : superior\n",
      "Processing Record 47 of Set 8 : nivala\n",
      "Processing Record 48 of Set 8 : soure\n",
      "Processing Record 49 of Set 8 : bantogon\n",
      "Processing Record 50 of Set 8 : falmouth\n",
      "Processing Record 0 of Set 9 : kembe\n",
      "Processing Record 1 of Set 9 : kaniama\n",
      "Processing Record 2 of Set 9 : rio claro\n",
      "Processing Record 3 of Set 9 : khani\n",
      "Processing Record 4 of Set 9 : prince george\n",
      "Processing Record 5 of Set 9 : kainantu\n",
      "Processing Record 6 of Set 9 : kumla\n",
      "Processing Record 7 of Set 9 : pringsewu\n",
      "Processing Record 8 of Set 9 : athabasca\n",
      "Processing Record 9 of Set 9 : cairns\n",
      "City not found. Skipping...\n",
      "Processing Record 10 of Set 9 : padang\n",
      "Processing Record 11 of Set 9 : lulea\n",
      "Processing Record 12 of Set 9 : luba\n",
      "Processing Record 13 of Set 9 : tsiroanomandidy\n",
      "Processing Record 14 of Set 9 : batemans bay\n",
      "Processing Record 15 of Set 9 : katsuura\n",
      "Processing Record 16 of Set 9 : chapais\n",
      "Processing Record 17 of Set 9 : freistadt\n",
      "Processing Record 18 of Set 9 : whitefish\n",
      "Processing Record 19 of Set 9 : kaitangata\n",
      "Processing Record 20 of Set 9 : deep river\n",
      "Processing Record 21 of Set 9 : cabinda\n",
      "City not found. Skipping...\n",
      "Processing Record 22 of Set 9 : mandalgovi\n",
      "Processing Record 23 of Set 9 : natal\n",
      "Processing Record 24 of Set 9 : mehamn\n",
      "Processing Record 25 of Set 9 : alghero\n",
      "Processing Record 26 of Set 9 : orocue\n",
      "Processing Record 27 of Set 9 : santa catarina de tepehuanes\n",
      "Processing Record 28 of Set 9 : port pirie\n",
      "Processing Record 29 of Set 9 : gamboma\n",
      "Processing Record 30 of Set 9 : abbeville\n",
      "Processing Record 31 of Set 9 : pasighat\n",
      "Processing Record 32 of Set 9 : lompoc\n",
      "Processing Record 33 of Set 9 : goderich\n",
      "Processing Record 34 of Set 9 : at-bashi\n",
      "Processing Record 35 of Set 9 : artsvaberd\n",
      "Processing Record 36 of Set 9 : viedma\n",
      "Processing Record 37 of Set 9 : ola\n",
      "Processing Record 38 of Set 9 : longyan\n",
      "Processing Record 39 of Set 9 : nemuro\n",
      "Processing Record 40 of Set 9 : fuerte olimpo\n",
      "Processing Record 41 of Set 9 : gunnedah\n",
      "Processing Record 42 of Set 9 : nouadhibou\n",
      "Processing Record 43 of Set 9 : baykit\n",
      "Processing Record 44 of Set 9 : codrington\n",
      "Processing Record 45 of Set 9 : hobyo\n",
      "Processing Record 46 of Set 9 : svetlaya\n",
      "Processing Record 47 of Set 9 : half moon bay\n",
      "Processing Record 48 of Set 9 : san nicolas\n",
      "Processing Record 49 of Set 9 : broome\n",
      "Processing Record 50 of Set 9 : losevo\n",
      "Processing Record 0 of Set 10 : zhob\n",
      "Processing Record 1 of Set 10 : meulaboh\n",
      "Processing Record 2 of Set 10 : ferzikovo\n",
      "Processing Record 3 of Set 10 : iskilip\n",
      "Processing Record 4 of Set 10 : yebaishou\n",
      "City not found. Skipping...\n",
      "Processing Record 5 of Set 10 : erzin\n",
      "Processing Record 6 of Set 10 : punta alta\n",
      "Processing Record 7 of Set 10 : naryan-mar\n",
      "Processing Record 8 of Set 10 : chapada dos guimaraes\n",
      "Processing Record 9 of Set 10 : hatta\n",
      "Processing Record 10 of Set 10 : necochea\n",
      "Processing Record 11 of Set 10 : acari\n",
      "Processing Record 12 of Set 10 : rio gallegos\n",
      "Processing Record 13 of Set 10 : allapalli\n",
      "Processing Record 14 of Set 10 : beringovskiy\n",
      "Processing Record 15 of Set 10 : bani\n",
      "Processing Record 16 of Set 10 : el dorado\n",
      "Processing Record 17 of Set 10 : brokopondo\n",
      "Processing Record 18 of Set 10 : dauphin\n",
      "Processing Record 19 of Set 10 : galesong\n",
      "City not found. Skipping...\n",
      "Processing Record 20 of Set 10 : teahupoo\n",
      "Processing Record 21 of Set 10 : olinda\n",
      "Processing Record 22 of Set 10 : damaturu\n",
      "Processing Record 23 of Set 10 : gunjur\n",
      "Processing Record 24 of Set 10 : gizo\n",
      "Processing Record 25 of Set 10 : ginda\n",
      "Processing Record 26 of Set 10 : panguna\n",
      "Processing Record 27 of Set 10 : savannakhet\n",
      "Processing Record 28 of Set 10 : sangar\n",
      "Processing Record 29 of Set 10 : espanola\n",
      "Processing Record 30 of Set 10 : sola\n",
      "Processing Record 31 of Set 10 : ouidah\n",
      "Processing Record 32 of Set 10 : rosarito\n",
      "Processing Record 33 of Set 10 : atherton\n",
      "Processing Record 34 of Set 10 : pangai\n",
      "Processing Record 35 of Set 10 : faya\n",
      "Processing Record 36 of Set 10 : gogrial\n",
      "Processing Record 37 of Set 10 : porto novo\n",
      "Processing Record 38 of Set 10 : egvekinot\n",
      "Processing Record 39 of Set 10 : port augusta\n",
      "Processing Record 40 of Set 10 : gondanglegi\n",
      "Processing Record 41 of Set 10 : micheweni\n",
      "Processing Record 42 of Set 10 : darnah\n",
      "Processing Record 43 of Set 10 : zeerust\n",
      "Processing Record 44 of Set 10 : deputatskiy\n",
      "Processing Record 45 of Set 10 : boende\n",
      "Processing Record 46 of Set 10 : chingola\n",
      "Processing Record 47 of Set 10 : sinor\n",
      "Processing Record 48 of Set 10 : darhan\n",
      "Processing Record 49 of Set 10 : alofi\n",
      "Processing Record 50 of Set 10 : lebu\n",
      "Processing Record 0 of Set 11 : healdsburg\n",
      "City not found. Skipping...\n",
      "Processing Record 1 of Set 11 : ixtapa\n",
      "Processing Record 2 of Set 11 : zabol\n",
      "Processing Record 3 of Set 11 : kramat\n",
      "Processing Record 4 of Set 11 : sangin\n",
      "Processing Record 5 of Set 11 : newport\n",
      "City not found. Skipping...\n",
      "Processing Record 6 of Set 11 : nanortalik\n",
      "Processing Record 7 of Set 11 : whitianga\n",
      "Processing Record 8 of Set 11 : jalu\n",
      "Processing Record 9 of Set 11 : yamada\n",
      "City not found. Skipping...\n",
      "Processing Record 10 of Set 11 : araouane\n",
      "Processing Record 11 of Set 11 : santa cruz de tenerife\n",
      "Processing Record 12 of Set 11 : zhezkazgan\n",
      "Processing Record 13 of Set 11 : havre-saint-pierre\n",
      "Processing Record 14 of Set 11 : locri\n",
      "Processing Record 15 of Set 11 : dombarovskiy\n",
      "Processing Record 16 of Set 11 : saldanha\n",
      "Processing Record 17 of Set 11 : stafford\n",
      "Processing Record 18 of Set 11 : sena madureira\n",
      "Processing Record 19 of Set 11 : evanston\n",
      "Processing Record 20 of Set 11 : okha\n",
      "Processing Record 21 of Set 11 : guozhen\n",
      "Processing Record 22 of Set 11 : ojinaga\n",
      "Processing Record 23 of Set 11 : huarmey\n",
      "City not found. Skipping...\n",
      "Processing Record 24 of Set 11 : calbuco\n",
      "Processing Record 25 of Set 11 : alta floresta\n",
      "Processing Record 26 of Set 11 : loreto\n",
      "Processing Record 27 of Set 11 : awbari\n",
      "Processing Record 28 of Set 11 : palotina\n",
      "City not found. Skipping...\n",
      "Processing Record 29 of Set 11 : hovd\n",
      "City not found. Skipping...\n",
      "Processing Record 30 of Set 11 : husavik\n",
      "Processing Record 31 of Set 11 : mahibadhoo\n",
      "Processing Record 32 of Set 11 : tashtagol\n",
      "City not found. Skipping...\n",
      "Processing Record 33 of Set 11 : pitimbu\n",
      "Processing Record 34 of Set 11 : excelsior springs\n",
      "City not found. Skipping...\n",
      "Processing Record 35 of Set 11 : tual\n",
      "Processing Record 36 of Set 11 : san joaquin\n",
      "Processing Record 37 of Set 11 : tambopata\n",
      "Processing Record 38 of Set 11 : khandyga\n",
      "Processing Record 39 of Set 11 : leningradskiy\n",
      "Processing Record 40 of Set 11 : praia\n",
      "Processing Record 41 of Set 11 : antofagasta\n",
      "Processing Record 42 of Set 11 : nalut\n",
      "Processing Record 43 of Set 11 : phuket\n",
      "Processing Record 44 of Set 11 : valparaiso\n",
      "Processing Record 45 of Set 11 : belmonte\n",
      "Processing Record 46 of Set 11 : kitimat\n",
      "Processing Record 47 of Set 11 : chemax\n",
      "Processing Record 48 of Set 11 : ziro\n",
      "Processing Record 49 of Set 11 : champerico\n",
      "Processing Record 50 of Set 11 : conceicao do araguaia\n",
      "Processing Record 0 of Set 12 : emba\n",
      "Processing Record 1 of Set 12 : bonanza\n",
      "Processing Record 2 of Set 12 : jumla\n"
     ]
    },
    {
     "name": "stdout",
     "output_type": "stream",
     "text": [
      "City not found. Skipping...\n",
      "Processing Record 3 of Set 12 : hangu\n",
      "Processing Record 4 of Set 12 : babu\n",
      "------------------------\n",
      "Data Retrieval Complete\n",
      "------------------------\n"
     ]
    }
   ],
   "source": [
    "print('Beginning Data Retrieval')\n",
    "print('------------------------')\n",
    "\n",
    "for city in cities:\n",
    "    city_query = query_url + city\n",
    "    response = requests.get(city_query).json()\n",
    "    \n",
    "    try:\n",
    "        City.append(response['name'])\n",
    "        Lat.append(response['coord']['lat'])\n",
    "        Lng.append(response['coord']['lon'])\n",
    "        Max_Temp.append(response['main']['temp_max'])\n",
    "        Humidity.append(response['main']['humidity'])\n",
    "        Cloudiness.append(response['clouds']['all'])\n",
    "        Wind_Speed.append(response['wind']['speed'])\n",
    "        Country.append(response['sys']['country'])\n",
    "        Date.append(response['dt'])\n",
    "        \n",
    "        if Index_Count > 49:\n",
    "            Index_Count = 0\n",
    "            Count += 1\n",
    "        else:\n",
    "            Index_Count += 1\n",
    "            \n",
    "        print(f'Processing Record {Index_Count} of Set {Count} : {city}')\n",
    "    \n",
    "    except(KeyError, IndexError):\n",
    "        print('City not found. Skipping...')\n",
    "        \n",
    "print('------------------------')\n",
    "print('Data Retrieval Complete')\n",
    "print('------------------------')"
   ]
  },
  {
   "cell_type": "markdown",
   "metadata": {},
   "source": [
    "Convert Raw Data to DataFrame\n",
    "* Export the city data into a .csv.\n",
    "* Display the DataFrame"
   ]
  },
  {
   "cell_type": "code",
   "execution_count": 108,
   "metadata": {},
   "outputs": [
    {
     "data": {
      "text/html": [
       "<div>\n",
       "<style scoped>\n",
       "    .dataframe tbody tr th:only-of-type {\n",
       "        vertical-align: middle;\n",
       "    }\n",
       "\n",
       "    .dataframe tbody tr th {\n",
       "        vertical-align: top;\n",
       "    }\n",
       "\n",
       "    .dataframe thead th {\n",
       "        text-align: right;\n",
       "    }\n",
       "</style>\n",
       "<table border=\"1\" class=\"dataframe\">\n",
       "  <thead>\n",
       "    <tr style=\"text-align: right;\">\n",
       "      <th></th>\n",
       "      <th>City</th>\n",
       "      <th>Lat</th>\n",
       "      <th>Lng</th>\n",
       "      <th>Max Temp</th>\n",
       "      <th>Humidity</th>\n",
       "      <th>Cloudiness</th>\n",
       "      <th>Wind Speed</th>\n",
       "      <th>Country</th>\n",
       "      <th>Date</th>\n",
       "    </tr>\n",
       "  </thead>\n",
       "  <tbody>\n",
       "    <tr>\n",
       "      <th>0</th>\n",
       "      <td>Turan</td>\n",
       "      <td>16.07</td>\n",
       "      <td>108.22</td>\n",
       "      <td>80.60</td>\n",
       "      <td>78</td>\n",
       "      <td>20</td>\n",
       "      <td>4.70</td>\n",
       "      <td>VN</td>\n",
       "      <td>1603760697</td>\n",
       "    </tr>\n",
       "    <tr>\n",
       "      <th>1</th>\n",
       "      <td>Tiksi</td>\n",
       "      <td>71.69</td>\n",
       "      <td>128.87</td>\n",
       "      <td>6.26</td>\n",
       "      <td>94</td>\n",
       "      <td>100</td>\n",
       "      <td>5.46</td>\n",
       "      <td>RU</td>\n",
       "      <td>1603760697</td>\n",
       "    </tr>\n",
       "    <tr>\n",
       "      <th>2</th>\n",
       "      <td>Qaanaaq</td>\n",
       "      <td>77.48</td>\n",
       "      <td>-69.36</td>\n",
       "      <td>8.64</td>\n",
       "      <td>76</td>\n",
       "      <td>99</td>\n",
       "      <td>8.90</td>\n",
       "      <td>GL</td>\n",
       "      <td>1603760697</td>\n",
       "    </tr>\n",
       "    <tr>\n",
       "      <th>3</th>\n",
       "      <td>Colquechaca</td>\n",
       "      <td>-18.67</td>\n",
       "      <td>-66.02</td>\n",
       "      <td>37.87</td>\n",
       "      <td>100</td>\n",
       "      <td>100</td>\n",
       "      <td>4.59</td>\n",
       "      <td>BO</td>\n",
       "      <td>1603760697</td>\n",
       "    </tr>\n",
       "    <tr>\n",
       "      <th>4</th>\n",
       "      <td>Bendigo</td>\n",
       "      <td>-36.77</td>\n",
       "      <td>144.28</td>\n",
       "      <td>64.99</td>\n",
       "      <td>45</td>\n",
       "      <td>64</td>\n",
       "      <td>1.01</td>\n",
       "      <td>AU</td>\n",
       "      <td>1603760697</td>\n",
       "    </tr>\n",
       "    <tr>\n",
       "      <th>...</th>\n",
       "      <td>...</td>\n",
       "      <td>...</td>\n",
       "      <td>...</td>\n",
       "      <td>...</td>\n",
       "      <td>...</td>\n",
       "      <td>...</td>\n",
       "      <td>...</td>\n",
       "      <td>...</td>\n",
       "      <td>...</td>\n",
       "    </tr>\n",
       "    <tr>\n",
       "      <th>560</th>\n",
       "      <td>Emba</td>\n",
       "      <td>48.83</td>\n",
       "      <td>58.14</td>\n",
       "      <td>31.96</td>\n",
       "      <td>90</td>\n",
       "      <td>0</td>\n",
       "      <td>18.45</td>\n",
       "      <td>KZ</td>\n",
       "      <td>1603760773</td>\n",
       "    </tr>\n",
       "    <tr>\n",
       "      <th>561</th>\n",
       "      <td>Bonanza</td>\n",
       "      <td>14.03</td>\n",
       "      <td>-84.59</td>\n",
       "      <td>72.88</td>\n",
       "      <td>97</td>\n",
       "      <td>100</td>\n",
       "      <td>0.63</td>\n",
       "      <td>NI</td>\n",
       "      <td>1603760773</td>\n",
       "    </tr>\n",
       "    <tr>\n",
       "      <th>562</th>\n",
       "      <td>Jumla</td>\n",
       "      <td>29.27</td>\n",
       "      <td>82.18</td>\n",
       "      <td>40.59</td>\n",
       "      <td>49</td>\n",
       "      <td>0</td>\n",
       "      <td>5.32</td>\n",
       "      <td>NP</td>\n",
       "      <td>1603760774</td>\n",
       "    </tr>\n",
       "    <tr>\n",
       "      <th>563</th>\n",
       "      <td>Hangu</td>\n",
       "      <td>39.25</td>\n",
       "      <td>117.79</td>\n",
       "      <td>54.00</td>\n",
       "      <td>25</td>\n",
       "      <td>0</td>\n",
       "      <td>8.95</td>\n",
       "      <td>CN</td>\n",
       "      <td>1603760774</td>\n",
       "    </tr>\n",
       "    <tr>\n",
       "      <th>564</th>\n",
       "      <td>Babu</td>\n",
       "      <td>24.42</td>\n",
       "      <td>111.52</td>\n",
       "      <td>72.05</td>\n",
       "      <td>67</td>\n",
       "      <td>0</td>\n",
       "      <td>5.99</td>\n",
       "      <td>CN</td>\n",
       "      <td>1603760774</td>\n",
       "    </tr>\n",
       "  </tbody>\n",
       "</table>\n",
       "<p>565 rows × 9 columns</p>\n",
       "</div>"
      ],
      "text/plain": [
       "            City    Lat     Lng  Max Temp  Humidity  Cloudiness  Wind Speed  \\\n",
       "0          Turan  16.07  108.22     80.60        78          20        4.70   \n",
       "1          Tiksi  71.69  128.87      6.26        94         100        5.46   \n",
       "2        Qaanaaq  77.48  -69.36      8.64        76          99        8.90   \n",
       "3    Colquechaca -18.67  -66.02     37.87       100         100        4.59   \n",
       "4        Bendigo -36.77  144.28     64.99        45          64        1.01   \n",
       "..           ...    ...     ...       ...       ...         ...         ...   \n",
       "560         Emba  48.83   58.14     31.96        90           0       18.45   \n",
       "561      Bonanza  14.03  -84.59     72.88        97         100        0.63   \n",
       "562        Jumla  29.27   82.18     40.59        49           0        5.32   \n",
       "563        Hangu  39.25  117.79     54.00        25           0        8.95   \n",
       "564         Babu  24.42  111.52     72.05        67           0        5.99   \n",
       "\n",
       "    Country        Date  \n",
       "0        VN  1603760697  \n",
       "1        RU  1603760697  \n",
       "2        GL  1603760697  \n",
       "3        BO  1603760697  \n",
       "4        AU  1603760697  \n",
       "..      ...         ...  \n",
       "560      KZ  1603760773  \n",
       "561      NI  1603760773  \n",
       "562      NP  1603760774  \n",
       "563      CN  1603760774  \n",
       "564      CN  1603760774  \n",
       "\n",
       "[565 rows x 9 columns]"
      ]
     },
     "execution_count": 108,
     "metadata": {},
     "output_type": "execute_result"
    }
   ],
   "source": [
    "weatherpy_dict = pd.DataFrame({\n",
    "    'City': City,\n",
    "    'Lat': Lat,\n",
    "    'Lng': Lng,\n",
    "    'Max Temp': Max_Temp,\n",
    "    'Humidity': Humidity,\n",
    "    'Cloudiness': Cloudiness,\n",
    "    'Wind Speed': Wind_Speed,\n",
    "    'Country': Country,\n",
    "    'Date': Date,\n",
    "})\n",
    "weatherpy_data = pd.DataFrame(weatherpy_dict)\n",
    "weatherpy_data"
   ]
  },
  {
   "cell_type": "code",
   "execution_count": 124,
   "metadata": {},
   "outputs": [
    {
     "data": {
      "text/html": [
       "<div>\n",
       "<style scoped>\n",
       "    .dataframe tbody tr th:only-of-type {\n",
       "        vertical-align: middle;\n",
       "    }\n",
       "\n",
       "    .dataframe tbody tr th {\n",
       "        vertical-align: top;\n",
       "    }\n",
       "\n",
       "    .dataframe thead th {\n",
       "        text-align: right;\n",
       "    }\n",
       "</style>\n",
       "<table border=\"1\" class=\"dataframe\">\n",
       "  <thead>\n",
       "    <tr style=\"text-align: right;\">\n",
       "      <th></th>\n",
       "      <th>Lat</th>\n",
       "      <th>Lng</th>\n",
       "      <th>Max Temp</th>\n",
       "      <th>Humidity</th>\n",
       "      <th>Cloudiness</th>\n",
       "      <th>Wind Speed</th>\n",
       "      <th>Date</th>\n",
       "    </tr>\n",
       "  </thead>\n",
       "  <tbody>\n",
       "    <tr>\n",
       "      <th>count</th>\n",
       "      <td>565.00</td>\n",
       "      <td>565.00</td>\n",
       "      <td>565.00</td>\n",
       "      <td>565.00</td>\n",
       "      <td>565.00</td>\n",
       "      <td>565.00</td>\n",
       "      <td>5.650000e+02</td>\n",
       "    </tr>\n",
       "    <tr>\n",
       "      <th>mean</th>\n",
       "      <td>19.28</td>\n",
       "      <td>16.47</td>\n",
       "      <td>58.44</td>\n",
       "      <td>73.01</td>\n",
       "      <td>52.14</td>\n",
       "      <td>7.75</td>\n",
       "      <td>1.603761e+09</td>\n",
       "    </tr>\n",
       "    <tr>\n",
       "      <th>std</th>\n",
       "      <td>33.08</td>\n",
       "      <td>92.53</td>\n",
       "      <td>20.72</td>\n",
       "      <td>20.78</td>\n",
       "      <td>41.30</td>\n",
       "      <td>5.63</td>\n",
       "      <td>7.173000e+01</td>\n",
       "    </tr>\n",
       "    <tr>\n",
       "      <th>min</th>\n",
       "      <td>-54.80</td>\n",
       "      <td>-179.17</td>\n",
       "      <td>-0.42</td>\n",
       "      <td>2.00</td>\n",
       "      <td>0.00</td>\n",
       "      <td>0.40</td>\n",
       "      <td>1.603760e+09</td>\n",
       "    </tr>\n",
       "    <tr>\n",
       "      <th>25%</th>\n",
       "      <td>-7.84</td>\n",
       "      <td>-65.10</td>\n",
       "      <td>44.60</td>\n",
       "      <td>63.00</td>\n",
       "      <td>1.00</td>\n",
       "      <td>3.42</td>\n",
       "      <td>1.603761e+09</td>\n",
       "    </tr>\n",
       "    <tr>\n",
       "      <th>50%</th>\n",
       "      <td>22.67</td>\n",
       "      <td>20.24</td>\n",
       "      <td>64.40</td>\n",
       "      <td>78.00</td>\n",
       "      <td>64.00</td>\n",
       "      <td>6.60</td>\n",
       "      <td>1.603761e+09</td>\n",
       "    </tr>\n",
       "    <tr>\n",
       "      <th>75%</th>\n",
       "      <td>47.29</td>\n",
       "      <td>103.31</td>\n",
       "      <td>75.40</td>\n",
       "      <td>88.00</td>\n",
       "      <td>92.00</td>\n",
       "      <td>10.29</td>\n",
       "      <td>1.603761e+09</td>\n",
       "    </tr>\n",
       "    <tr>\n",
       "      <th>max</th>\n",
       "      <td>78.22</td>\n",
       "      <td>179.32</td>\n",
       "      <td>90.00</td>\n",
       "      <td>100.00</td>\n",
       "      <td>100.00</td>\n",
       "      <td>35.41</td>\n",
       "      <td>1.603761e+09</td>\n",
       "    </tr>\n",
       "  </tbody>\n",
       "</table>\n",
       "</div>"
      ],
      "text/plain": [
       "          Lat     Lng  Max Temp  Humidity  Cloudiness  Wind Speed  \\\n",
       "count  565.00  565.00    565.00    565.00      565.00      565.00   \n",
       "mean    19.28   16.47     58.44     73.01       52.14        7.75   \n",
       "std     33.08   92.53     20.72     20.78       41.30        5.63   \n",
       "min    -54.80 -179.17     -0.42      2.00        0.00        0.40   \n",
       "25%     -7.84  -65.10     44.60     63.00        1.00        3.42   \n",
       "50%     22.67   20.24     64.40     78.00       64.00        6.60   \n",
       "75%     47.29  103.31     75.40     88.00       92.00       10.29   \n",
       "max     78.22  179.32     90.00    100.00      100.00       35.41   \n",
       "\n",
       "               Date  \n",
       "count  5.650000e+02  \n",
       "mean   1.603761e+09  \n",
       "std    7.173000e+01  \n",
       "min    1.603760e+09  \n",
       "25%    1.603761e+09  \n",
       "50%    1.603761e+09  \n",
       "75%    1.603761e+09  \n",
       "max    1.603761e+09  "
      ]
     },
     "execution_count": 124,
     "metadata": {},
     "output_type": "execute_result"
    }
   ],
   "source": [
    "weatherpy_data.describe().round(2)"
   ]
  },
  {
   "cell_type": "code",
   "execution_count": 123,
   "metadata": {},
   "outputs": [],
   "source": [
    "weatherpy_data.to_csv('Output/raw_data.csv', index = False, header = True)"
   ]
  },
  {
   "cell_type": "code",
   "execution_count": null,
   "metadata": {},
   "outputs": [],
   "source": []
  },
  {
   "cell_type": "markdown",
   "metadata": {},
   "source": [
    "## Plotting the Data\n",
    "* Use proper labeling of the plots using plot titles (including date of analysis) and axes labels.\n",
    "* Save the plotted figures as .pngs."
   ]
  },
  {
   "cell_type": "markdown",
   "metadata": {},
   "source": [
    "## Latitude vs. Temperature Plot"
   ]
  },
  {
   "cell_type": "code",
   "execution_count": 111,
   "metadata": {
    "scrolled": true
   },
   "outputs": [
    {
     "data": {
      "image/png": "[encoded data removed]",
      "text/plain": [
       "<Figure size 432x288 with 1 Axes>"
      ]
     },
     "metadata": {
      "needs_background": "light"
     },
     "output_type": "display_data"
    }
   ],
   "source": [
    "weatherpy_data.plot(kind='scatter', x='Lat', y='Max Temp')\n",
    "plt.grid(color='gray', linestyle='-', linewidth=1)\n",
    "plt.xlabel('Latitude')\n",
    "plt.ylabel('Max Temperature (F)')\n",
    "plt.title('City Latitude vs. Max Tempature (10/26/20)')\n",
    "plt.savefig(\"Images/Latitude vs. Temperature Plot.png\")\n",
    "plt.show()"
   ]
  },
  {
   "cell_type": "markdown",
   "metadata": {},
   "source": [
    "## Latitude vs. Humidity Plot"
   ]
  },
  {
   "cell_type": "code",
   "execution_count": 112,
   "metadata": {},
   "outputs": [
    {
     "data": {
      "image/png": "[encoded data removed]",
      "text/plain": [
       "<Figure size 432x288 with 1 Axes>"
      ]
     },
     "metadata": {
      "needs_background": "light"
     },
     "output_type": "display_data"
    }
   ],
   "source": [
    "weatherpy_data.plot(kind='scatter', x='Lat', y='Humidity')\n",
    "plt.grid(color='gray', linestyle='-', linewidth=1)\n",
    "plt.xlabel('Latitude')\n",
    "plt.ylabel('Humidity (%)')\n",
    "plt.title('City Latitude vs. Humidity (10/26/20)')\n",
    "plt.savefig(\"Images/Latitude vs. Humidity Plot.png\")\n",
    "plt.show()"
   ]
  },
  {
   "cell_type": "code",
   "execution_count": null,
   "metadata": {},
   "outputs": [],
   "source": []
  },
  {
   "cell_type": "markdown",
   "metadata": {},
   "source": [
    "## Latitude vs. Cloudiness Plot"
   ]
  },
  {
   "cell_type": "code",
   "execution_count": 113,
   "metadata": {},
   "outputs": [
    {
     "data": {
      "image/png": "[encoded data removed]",
      "text/plain": [
       "<Figure size 432x288 with 1 Axes>"
      ]
     },
     "metadata": {
      "needs_background": "light"
     },
     "output_type": "display_data"
    }
   ],
   "source": [
    "weatherpy_data.plot(kind='scatter', x='Lat', y='Cloudiness')\n",
    "plt.grid(color='gray', linestyle='-', linewidth=1)\n",
    "plt.xlabel('Latitude')\n",
    "plt.ylabel('Humidity (%)')\n",
    "plt.title('City Latitude vs. Cloudiness (10/26/20)')\n",
    "plt.savefig(\"Images/Latitude vs. Cloudiness Plot.png\")\n",
    "plt.show()"
   ]
  },
  {
   "cell_type": "markdown",
   "metadata": {},
   "source": [
    "## Latitude vs. Wind Speed Plot"
   ]
  },
  {
   "cell_type": "code",
   "execution_count": 114,
   "metadata": {},
   "outputs": [
    {
     "data": {
      "image/png": "[encoded data removed]",
      "text/plain": [
       "<Figure size 432x288 with 1 Axes>"
      ]
     },
     "metadata": {
      "needs_background": "light"
     },
     "output_type": "display_data"
    }
   ],
   "source": [
    "weatherpy_data.plot(kind='scatter', x='Lat', y='Wind Speed')\n",
    "plt.grid(color='gray', linestyle='-', linewidth=1)\n",
    "plt.xlabel('Latitude')\n",
    "plt.ylabel('Humidity (%)')\n",
    "plt.title('City Latitude vs. Wind Speed (10/26/20)')\n",
    "plt.savefig(\"Images/Latitude vs. Wind Speed Plot.png\")\n",
    "plt.show()"
   ]
  },
  {
   "cell_type": "markdown",
   "metadata": {},
   "source": [
    "## Linear Regression"
   ]
  },
  {
   "cell_type": "code",
   "execution_count": 30,
   "metadata": {},
   "outputs": [],
   "source": [
    "northern_hem = weatherpy_data.loc[weatherpy_data['Lat'] >= 0]"
   ]
  },
  {
   "cell_type": "markdown",
   "metadata": {},
   "source": [
    "####  Northern Hemisphere - Max Temp vs. Latitude Linear Regression"
   ]
  },
  {
   "cell_type": "code",
   "execution_count": 115,
   "metadata": {},
   "outputs": [
    {
     "name": "stdout",
     "output_type": "stream",
     "text": [
      "The r-value is:  -0.8693354274184423\n"
     ]
    },
    {
     "name": "stderr",
     "output_type": "stream",
     "text": [
      "C:\\Users\\jpegr\\Anaconda3\\envs\\PythonData\\lib\\site-packages\\ipykernel_launcher.py:12: SettingWithCopyWarning: \n",
      "A value is trying to be set on a copy of a slice from a DataFrame.\n",
      "Try using .loc[row_indexer,col_indexer] = value instead\n",
      "\n",
      "See the caveats in the documentation: https://pandas.pydata.org/pandas-docs/stable/user_guide/indexing.html#returning-a-view-versus-a-copy\n",
      "  if sys.path[0] == '':\n"
     ]
    },
    {
     "data": {
      "image/png": "[encoded data removed]",
      "text/plain": [
       "<Figure size 432x288 with 1 Axes>"
      ]
     },
     "metadata": {
      "needs_background": "light"
     },
     "output_type": "display_data"
    }
   ],
   "source": [
    "x_values = northern_hem['Lat']\n",
    "y_values = northern_hem['Max Temp']\n",
    "\n",
    "result = stats.linregress(x_values, y_values)\n",
    "slope = result.slope\n",
    "intercept = result.intercept\n",
    "rvalue = result.rvalue\n",
    "\n",
    "print(\"The r-value is: \" , (rvalue))\n",
    "\n",
    "regress_values = x_values * slope + intercept\n",
    "northern_hem['regress max temp'] = regress_values\n",
    "\n",
    "plt.scatter(x_values, y_values)\n",
    "plt.plot(x_values, regress_values, color='red')\n",
    "\n",
    "plt.xlabel('Latitude')\n",
    "plt.ylabel('Max Temp')\n",
    "\n",
    "eq = f'y = {round(slope, 2)}x + {round(intercept, 2)}'\n",
    "r_squared = f'r^2 = {round(rvalue ** 2, 2)}'\n",
    "\n",
    "plt.annotate(eq, (40, 20.5), color='red')\n",
    "plt.annotate(r_squared, (40, 19), color='red')\n",
    "plt.savefig(\"Images/Northern Hemisphere - Max Temp vs. Latitude Linear Regression.png\")\n",
    "plt.show()"
   ]
  },
  {
   "cell_type": "code",
   "execution_count": null,
   "metadata": {},
   "outputs": [],
   "source": []
  },
  {
   "cell_type": "markdown",
   "metadata": {},
   "source": [
    "####  Southern Hemisphere - Max Temp vs. Latitude Linear Regression"
   ]
  },
  {
   "cell_type": "code",
   "execution_count": 38,
   "metadata": {},
   "outputs": [],
   "source": [
    "southern_hem = weatherpy_data.loc[weatherpy_data['Lat'] < 0]"
   ]
  },
  {
   "cell_type": "code",
   "execution_count": 116,
   "metadata": {},
   "outputs": [
    {
     "name": "stdout",
     "output_type": "stream",
     "text": [
      "The r-value is: 0.7858648088437945\n"
     ]
    },
    {
     "name": "stderr",
     "output_type": "stream",
     "text": [
      "C:\\Users\\jpegr\\Anaconda3\\envs\\PythonData\\lib\\site-packages\\ipykernel_launcher.py:12: SettingWithCopyWarning: \n",
      "A value is trying to be set on a copy of a slice from a DataFrame.\n",
      "Try using .loc[row_indexer,col_indexer] = value instead\n",
      "\n",
      "See the caveats in the documentation: https://pandas.pydata.org/pandas-docs/stable/user_guide/indexing.html#returning-a-view-versus-a-copy\n",
      "  if sys.path[0] == '':\n"
     ]
    },
    {
     "data": {
      "image/png": "[encoded data removed]",
      "text/plain": [
       "<Figure size 432x288 with 1 Axes>"
      ]
     },
     "metadata": {
      "needs_background": "light"
     },
     "output_type": "display_data"
    }
   ],
   "source": [
    "x_values = southern_hem['Lat']\n",
    "y_values = southern_hem['Max Temp']\n",
    "\n",
    "result = stats.linregress(x_values, y_values)\n",
    "slope = result.slope\n",
    "intercept = result.intercept\n",
    "rvalue = result.rvalue\n",
    "\n",
    "print(\"The r-value is:\" , (rvalue))\n",
    "\n",
    "regress_values = x_values * slope + intercept\n",
    "southern_hem['regress Max Temp'] = regress_values\n",
    "\n",
    "plt.scatter(x_values, y_values)\n",
    "plt.plot(x_values, regress_values, color='red')\n",
    "\n",
    "plt.xlabel('Latitude')\n",
    "plt.ylabel('Max Temp')\n",
    "\n",
    "eq = f'y = {round(slope, 2)}x + {round(intercept, 2)}'\n",
    "r_squared = f'r^2 = {round(rvalue ** 2, 2)}'\n",
    "\n",
    "plt.annotate(eq, (40, 20.5), color='red')\n",
    "plt.annotate(r_squared, (40, 19), color='red')\n",
    "plt.savefig(\"Images/Southern Hemisphere - Max Temp vs. Latitude Linear Regression.png\")\n",
    "plt.show()"
   ]
  },
  {
   "cell_type": "code",
   "execution_count": null,
   "metadata": {},
   "outputs": [],
   "source": []
  },
  {
   "cell_type": "markdown",
   "metadata": {},
   "source": [
    "####  Northern Hemisphere - Humidity (%) vs. Latitude Linear Regression"
   ]
  },
  {
   "cell_type": "code",
   "execution_count": 117,
   "metadata": {},
   "outputs": [
    {
     "name": "stdout",
     "output_type": "stream",
     "text": [
      "The r-value is: 0.23230964969715334\n"
     ]
    },
    {
     "name": "stderr",
     "output_type": "stream",
     "text": [
      "C:\\Users\\jpegr\\Anaconda3\\envs\\PythonData\\lib\\site-packages\\ipykernel_launcher.py:12: SettingWithCopyWarning: \n",
      "A value is trying to be set on a copy of a slice from a DataFrame.\n",
      "Try using .loc[row_indexer,col_indexer] = value instead\n",
      "\n",
      "See the caveats in the documentation: https://pandas.pydata.org/pandas-docs/stable/user_guide/indexing.html#returning-a-view-versus-a-copy\n",
      "  if sys.path[0] == '':\n"
     ]
    },
    {
     "data": {
      "image/png": "[encoded data removed]",
      "text/plain": [
       "<Figure size 432x288 with 1 Axes>"
      ]
     },
     "metadata": {
      "needs_background": "light"
     },
     "output_type": "display_data"
    }
   ],
   "source": [
    "x_values = northern_hem['Lat']\n",
    "y_values = northern_hem['Humidity']\n",
    "\n",
    "result = stats.linregress(x_values, y_values)\n",
    "slope = result.slope\n",
    "intercept = result.intercept\n",
    "rvalue = result.rvalue\n",
    "\n",
    "print(\"The r-value is:\" , (rvalue))\n",
    "\n",
    "regress_values = x_values * slope + intercept\n",
    "northern_hem['regress Humidity'] = regress_values\n",
    "\n",
    "plt.scatter(x_values, y_values)\n",
    "plt.plot(x_values, regress_values, color='red')\n",
    "\n",
    "plt.xlabel('Latitude')\n",
    "plt.ylabel('Humidity')\n",
    "\n",
    "eq = f'y = {round(slope, 2)}x + {round(intercept, 2)}'\n",
    "r_squared = f'r^2 = {round(rvalue ** 2, 2)}'\n",
    "\n",
    "plt.annotate(eq, (40, 20.5), color='red')\n",
    "plt.annotate(r_squared, (40, 19), color='red')\n",
    "plt.savefig(\"Images/Northern Hemisphere - Humidity (%) vs. Latitude Linear Regression.png\")\n",
    "plt.show()"
   ]
  },
  {
   "cell_type": "code",
   "execution_count": null,
   "metadata": {},
   "outputs": [],
   "source": []
  },
  {
   "cell_type": "markdown",
   "metadata": {},
   "source": [
    "####  Southern Hemisphere - Humidity (%) vs. Latitude Linear Regression"
   ]
  },
  {
   "cell_type": "code",
   "execution_count": 118,
   "metadata": {},
   "outputs": [
    {
     "name": "stdout",
     "output_type": "stream",
     "text": [
      "The r-value is: 0.16783689213385425\n"
     ]
    },
    {
     "name": "stderr",
     "output_type": "stream",
     "text": [
      "C:\\Users\\jpegr\\Anaconda3\\envs\\PythonData\\lib\\site-packages\\ipykernel_launcher.py:12: SettingWithCopyWarning: \n",
      "A value is trying to be set on a copy of a slice from a DataFrame.\n",
      "Try using .loc[row_indexer,col_indexer] = value instead\n",
      "\n",
      "See the caveats in the documentation: https://pandas.pydata.org/pandas-docs/stable/user_guide/indexing.html#returning-a-view-versus-a-copy\n",
      "  if sys.path[0] == '':\n"
     ]
    },
    {
     "data": {
      "image/png": "[encoded data removed]",
      "text/plain": [
       "<Figure size 432x288 with 1 Axes>"
      ]
     },
     "metadata": {
      "needs_background": "light"
     },
     "output_type": "display_data"
    }
   ],
   "source": [
    "x_values = southern_hem['Lat']\n",
    "y_values = southern_hem['Humidity']\n",
    "\n",
    "result = stats.linregress(x_values, y_values)\n",
    "slope = result.slope\n",
    "intercept = result.intercept\n",
    "rvalue = result.rvalue\n",
    "\n",
    "print(\"The r-value is:\" , (rvalue))\n",
    "\n",
    "regress_values = x_values * slope + intercept\n",
    "southern_hem['regress Humidity'] = regress_values\n",
    "\n",
    "plt.scatter(x_values, y_values)\n",
    "plt.plot(x_values, regress_values, color='red')\n",
    "\n",
    "plt.xlabel('Latitude')\n",
    "plt.ylabel('Humidity')\n",
    "\n",
    "eq = f'y = {round(slope, 2)}x + {round(intercept, 2)}'\n",
    "r_squared = f'r^2 = {round(rvalue ** 2, 2)}'\n",
    "\n",
    "plt.annotate(eq, (40, 20.5), color='red')\n",
    "plt.annotate(r_squared, (40, 19), color='red')\n",
    "plt.savefig(\"Images/Southern Hemisphere - Humidity (%) vs. Latitude Linear Regression.png\")\n",
    "plt.show()"
   ]
  },
  {
   "cell_type": "code",
   "execution_count": null,
   "metadata": {},
   "outputs": [],
   "source": []
  },
  {
   "cell_type": "markdown",
   "metadata": {},
   "source": [
    "####  Northern Hemisphere - Cloudiness (%) vs. Latitude Linear Regression"
   ]
  },
  {
   "cell_type": "code",
   "execution_count": 119,
   "metadata": {},
   "outputs": [
    {
     "name": "stdout",
     "output_type": "stream",
     "text": [
      "The r-value is: 0.18104175989901755\n"
     ]
    },
    {
     "name": "stderr",
     "output_type": "stream",
     "text": [
      "C:\\Users\\jpegr\\Anaconda3\\envs\\PythonData\\lib\\site-packages\\ipykernel_launcher.py:13: SettingWithCopyWarning: \n",
      "A value is trying to be set on a copy of a slice from a DataFrame.\n",
      "Try using .loc[row_indexer,col_indexer] = value instead\n",
      "\n",
      "See the caveats in the documentation: https://pandas.pydata.org/pandas-docs/stable/user_guide/indexing.html#returning-a-view-versus-a-copy\n",
      "  del sys.path[0]\n"
     ]
    },
    {
     "data": {
      "image/png": "[encoded data removed]",
      "text/plain": [
       "<Figure size 432x288 with 1 Axes>"
      ]
     },
     "metadata": {
      "needs_background": "light"
     },
     "output_type": "display_data"
    }
   ],
   "source": [
    "x_values = northern_hem['Lat']\n",
    "y_values = northern_hem['Cloudiness']\n",
    "\n",
    "result = stats.linregress(x_values, y_values)\n",
    "slope = result.slope\n",
    "intercept = result.intercept\n",
    "rvalue = result.rvalue\n",
    "\n",
    "print(\"The r-value is:\" , (rvalue))\n",
    "\n",
    "# Get regression values\n",
    "regress_values = x_values * slope + intercept\n",
    "northern_hem['regress Cloudiness'] = regress_values\n",
    "\n",
    "plt.scatter(x_values, y_values)\n",
    "plt.plot(x_values, regress_values, color='red')\n",
    "\n",
    "plt.xlabel('Latitude')\n",
    "plt.ylabel('Cloudiness')\n",
    "\n",
    "eq = f'y = {round(slope, 2)}x + {round(intercept, 2)}'\n",
    "r_squared = f'r^2 = {round(rvalue ** 2, 2)}'\n",
    "\n",
    "plt.annotate(eq, (40, 20.5), color='red')\n",
    "plt.annotate(r_squared, (40, 19), color='red')\n",
    "plt.savefig(\"Images/Northern Hemisphere - Cloudiness (%) vs. Latitude Linear Regression.png\")\n",
    "plt.show()"
   ]
  },
  {
   "cell_type": "code",
   "execution_count": null,
   "metadata": {},
   "outputs": [],
   "source": []
  },
  {
   "cell_type": "markdown",
   "metadata": {},
   "source": [
    "####  Southern Hemisphere - Cloudiness (%) vs. Latitude Linear Regression"
   ]
  },
  {
   "cell_type": "code",
   "execution_count": 120,
   "metadata": {},
   "outputs": [
    {
     "name": "stdout",
     "output_type": "stream",
     "text": [
      "The r-value is: 0.07449081617901088\n"
     ]
    },
    {
     "name": "stderr",
     "output_type": "stream",
     "text": [
      "C:\\Users\\jpegr\\Anaconda3\\envs\\PythonData\\lib\\site-packages\\ipykernel_launcher.py:12: SettingWithCopyWarning: \n",
      "A value is trying to be set on a copy of a slice from a DataFrame.\n",
      "Try using .loc[row_indexer,col_indexer] = value instead\n",
      "\n",
      "See the caveats in the documentation: https://pandas.pydata.org/pandas-docs/stable/user_guide/indexing.html#returning-a-view-versus-a-copy\n",
      "  if sys.path[0] == '':\n"
     ]
    },
    {
     "data": {
      "image/png": "[encoded data removed]",
      "text/plain": [
       "<Figure size 432x288 with 1 Axes>"
      ]
     },
     "metadata": {
      "needs_background": "light"
     },
     "output_type": "display_data"
    }
   ],
   "source": [
    "x_values = southern_hem['Lat']\n",
    "y_values = southern_hem['Cloudiness']\n",
    "\n",
    "result = stats.linregress(x_values, y_values)\n",
    "slope = result.slope\n",
    "intercept = result.intercept\n",
    "rvalue = result.rvalue\n",
    "\n",
    "print(\"The r-value is:\" , (rvalue))\n",
    "\n",
    "regress_values = x_values * slope + intercept\n",
    "southern_hem['regress Cloudiness'] = regress_values\n",
    "\n",
    "plt.scatter(x_values, y_values)\n",
    "plt.plot(x_values, regress_values, color='red')\n",
    "\n",
    "plt.xlabel('Latitude')\n",
    "plt.ylabel('Cloudiness')\n",
    "\n",
    "eq = f'y = {round(slope, 2)}x + {round(intercept, 2)}'\n",
    "r_squared = f'r^2 = {round(rvalue ** 2, 2)}'\n",
    "\n",
    "plt.annotate(eq, (40, 20.5), color='red')\n",
    "plt.annotate(r_squared, (40, 19), color='red')\n",
    "plt.savefig(\"Images/Southern Hemisphere - Cloudiness (%) vs. Latitude Linear Regression.png\")\n",
    "plt.show()"
   ]
  },
  {
   "cell_type": "code",
   "execution_count": null,
   "metadata": {},
   "outputs": [],
   "source": []
  },
  {
   "cell_type": "markdown",
   "metadata": {},
   "source": [
    "####  Northern Hemisphere - Wind Speed (mph) vs. Latitude Linear Regression"
   ]
  },
  {
   "cell_type": "code",
   "execution_count": 121,
   "metadata": {},
   "outputs": [
    {
     "name": "stdout",
     "output_type": "stream",
     "text": [
      "The r-value is: 0.2189542364643081\n"
     ]
    },
    {
     "name": "stderr",
     "output_type": "stream",
     "text": [
      "C:\\Users\\jpegr\\Anaconda3\\envs\\PythonData\\lib\\site-packages\\ipykernel_launcher.py:12: SettingWithCopyWarning: \n",
      "A value is trying to be set on a copy of a slice from a DataFrame.\n",
      "Try using .loc[row_indexer,col_indexer] = value instead\n",
      "\n",
      "See the caveats in the documentation: https://pandas.pydata.org/pandas-docs/stable/user_guide/indexing.html#returning-a-view-versus-a-copy\n",
      "  if sys.path[0] == '':\n"
     ]
    },
    {
     "data": {
      "image/png": "[encoded data removed]",
      "text/plain": [
       "<Figure size 432x288 with 1 Axes>"
      ]
     },
     "metadata": {
      "needs_background": "light"
     },
     "output_type": "display_data"
    }
   ],
   "source": [
    "x_values = northern_hem['Lat']\n",
    "y_values = northern_hem['Wind Speed']\n",
    "\n",
    "result = stats.linregress(x_values, y_values)\n",
    "slope = result.slope\n",
    "intercept = result.intercept\n",
    "rvalue = result.rvalue\n",
    "\n",
    "print(\"The r-value is:\" , (rvalue))\n",
    "\n",
    "regress_values = x_values * slope + intercept\n",
    "northern_hem['regress Wind Speed'] = regress_values\n",
    "\n",
    "plt.scatter(x_values, y_values)\n",
    "plt.plot(x_values, regress_values, color='red')\n",
    "\n",
    "plt.xlabel('Latitude')\n",
    "plt.ylabel('Wind Speed')\n",
    "\n",
    "eq = f'y = {round(slope, 2)}x + {round(intercept, 2)}'\n",
    "r_squared = f'r^2 = {round(rvalue ** 2, 2)}'\n",
    "\n",
    "plt.annotate(eq, (40, 20.5), color='red')\n",
    "plt.annotate(r_squared, (40, 19), color='red')\n",
    "plt.savefig(\"Images/Northern Hemisphere - Wind Speed (mph) vs. Latitude Linear Regression.png\")\n",
    "plt.show()"
   ]
  },
  {
   "cell_type": "code",
   "execution_count": null,
   "metadata": {},
   "outputs": [],
   "source": []
  },
  {
   "cell_type": "markdown",
   "metadata": {},
   "source": [
    "####  Southern Hemisphere - Wind Speed (mph) vs. Latitude Linear Regression"
   ]
  },
  {
   "cell_type": "code",
   "execution_count": 122,
   "metadata": {},
   "outputs": [
    {
     "name": "stdout",
     "output_type": "stream",
     "text": [
      "The r-value is: -0.35135225034132134\n"
     ]
    },
    {
     "name": "stderr",
     "output_type": "stream",
     "text": [
      "C:\\Users\\jpegr\\Anaconda3\\envs\\PythonData\\lib\\site-packages\\ipykernel_launcher.py:12: SettingWithCopyWarning: \n",
      "A value is trying to be set on a copy of a slice from a DataFrame.\n",
      "Try using .loc[row_indexer,col_indexer] = value instead\n",
      "\n",
      "See the caveats in the documentation: https://pandas.pydata.org/pandas-docs/stable/user_guide/indexing.html#returning-a-view-versus-a-copy\n",
      "  if sys.path[0] == '':\n"
     ]
    },
    {
     "data": {
      "image/png": "[encoded data removed]",
      "text/plain": [
       "<Figure size 432x288 with 1 Axes>"
      ]
     },
     "metadata": {
      "needs_background": "light"
     },
     "output_type": "display_data"
    }
   ],
   "source": [
    "x_values = southern_hem['Lat']\n",
    "y_values = southern_hem['Wind Speed']\n",
    "\n",
    "result = stats.linregress(x_values, y_values)\n",
    "slope = result.slope\n",
    "intercept = result.intercept\n",
    "rvalue = result.rvalue\n",
    "\n",
    "print(\"The r-value is:\" , (rvalue))\n",
    "\n",
    "regress_values = x_values * slope + intercept\n",
    "southern_hem['regress Wind Speed'] = regress_values\n",
    "\n",
    "plt.scatter(x_values, y_values)\n",
    "plt.plot(x_values, regress_values, color='red')\n",
    "\n",
    "plt.xlabel('Latitude')\n",
    "plt.ylabel('Wind Speed')\n",
    "\n",
    "eq = f'y = {round(slope, 2)}x + {round(intercept, 2)}'\n",
    "r_squared = f'r^2 = {round(rvalue ** 2, 2)}'\n",
    "\n",
    "plt.annotate(eq, (40, 20.5), color='red')\n",
    "plt.annotate(r_squared, (40, 19), color='red')\n",
    "plt.savefig(\"Images/Southern Hemisphere - Wind Speed (mph) vs. Latitude Linear Regression.png\")\n",
    "plt.show()"
   ]
  },
  {
   "cell_type": "code",
   "execution_count": null,
   "metadata": {},
   "outputs": [],
   "source": []
  },
  {
   "cell_type": "code",
   "execution_count": null,
   "metadata": {},
   "outputs": [],
   "source": []
  }
 ],
 "metadata": {
  "anaconda-cloud": {},
  "kernel_info": {
   "name": "python3"
  },
  "kernelspec": {
   "display_name": "Python 3",
   "language": "python",
   "name": "python3"
  },
  "language_info": {
   "codemirror_mode": {
    "name": "ipython",
    "version": 3
   },
   "file_extension": ".py",
   "mimetype": "text/x-python",
   "name": "python",
   "nbconvert_exporter": "python",
   "pygments_lexer": "ipython3",
   "version": "3.6.10"
  },
  "latex_envs": {
   "LaTeX_envs_menu_present": true,
   "autoclose": false,
   "autocomplete": true,
   "bibliofile": "biblio.bib",
   "cite_by": "apalike",
   "current_citInitial": 1,
   "eqLabelWithNumbers": true,
   "eqNumInitial": 1,
   "hotkeys": {
    "equation": "Ctrl-E",
    "itemize": "Ctrl-I"
   },
   "labels_anchors": false,
   "latex_user_defs": false,
   "report_style_numbering": false,
   "user_envs_cfg": false
  },
  "nteract": {
   "version": "0.12.3"
  }
 },
 "nbformat": 4,
 "nbformat_minor": 2
}
