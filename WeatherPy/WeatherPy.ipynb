{
 "cells": [
  {
   "cell_type": "markdown",
   "metadata": {},
   "source": [
    "# WeatherPy\n",
    "----\n",
    "\n",
    "#### Note\n",
    "* Instructions have been included for each segment. You do not have to follow them exactly, but they are included to help you think through the steps."
   ]
  },
  {
   "cell_type": "code",
   "execution_count": 2,
   "metadata": {
    "scrolled": true
   },
   "outputs": [],
   "source": [
    "# Dependencies and Setup\n",
    "import matplotlib.pyplot as plt\n",
    "import pandas as pd\n",
    "import numpy as np\n",
    "import requests\n",
    "import time\n",
    "from scipy.stats import linregress\n",
    "import json\n",
    "from scipy import stats\n",
    "\n",
    "# Import API key\n",
    "from api_keys import weather_api_key\n",
    "\n",
    "# Incorporated citipy to determine city based on latitude and longitude\n",
    "from citipy import citipy\n",
    "\n",
    "# Output File (CSV)\n",
    "output_data_file = \"output_data/cities.csv\"\n",
    "\n",
    "# Range of latitudes and longitudes\n",
    "lat_range = (-90, 90)\n",
    "lng_range = (-180, 180)"
   ]
  },
  {
   "cell_type": "markdown",
   "metadata": {},
   "source": [
    "## Generate Cities List"
   ]
  },
  {
   "cell_type": "code",
   "execution_count": 3,
   "metadata": {},
   "outputs": [
    {
     "data": {
      "text/plain": [
       "630"
      ]
     },
     "execution_count": 3,
     "metadata": {},
     "output_type": "execute_result"
    }
   ],
   "source": [
    "# List for holding lat_lngs and cities\n",
    "lat_lngs = []\n",
    "cities = []\n",
    "\n",
    "# Create a set of random lat and lng combinations\n",
    "lats = np.random.uniform(lat_range[0], lat_range[1], size=1500)\n",
    "lngs = np.random.uniform(lng_range[0], lng_range[1], size=1500)\n",
    "lat_lngs = zip(lats, lngs)\n",
    "\n",
    "# Identify nearest city for each lat, lng combination\n",
    "for lat_lng in lat_lngs:\n",
    "    city = citipy.nearest_city(lat_lng[0], lat_lng[1]).city_name\n",
    "    \n",
    "    # If the city is unique, then add it to a our cities list\n",
    "    if city not in cities:\n",
    "        cities.append(city)\n",
    "\n",
    "# Print the city count to confirm sufficient count\n",
    "len(cities)"
   ]
  },
  {
   "cell_type": "markdown",
   "metadata": {},
   "source": [
    "### Perform API Calls\n",
    "* Perform a weather check on each city using a series of successive API calls.\n",
    "* Include a print log of each city as it'sbeing processed (with the city number and city name).\n"
   ]
  },
  {
   "cell_type": "code",
   "execution_count": 4,
   "metadata": {},
   "outputs": [],
   "source": [
    "# Set up lists\n",
    "City = []\n",
    "Lat = []\n",
    "Lng = []\n",
    "Max_Temp = []\n",
    "Humidity = []\n",
    "Cloudiness = []\n",
    "Wind_Speed = []\n",
    "Country = []\n",
    "Date = []\n",
    "Index_Count = 0\n",
    "Count = 1"
   ]
  },
  {
   "cell_type": "code",
   "execution_count": 5,
   "metadata": {},
   "outputs": [],
   "source": [
    "# Save API_key information\n",
    "url = \"http://api.openweathermap.org/data/2.5/weather?\"\n",
    "units = \"imperial\"\n",
    "\n",
    "# Build Query URL\n",
    "query_url = f\"{url}appid={weather_api_key}&units={units}&q=\""
   ]
  },
  {
   "cell_type": "code",
   "execution_count": 6,
   "metadata": {},
   "outputs": [
    {
     "name": "stdout",
     "output_type": "stream",
     "text": [
      "Beginning Data Retrieval\n",
      "------------------------\n",
      "Processing Record 1 of Set 1 : mataura\n",
      "Processing Record 2 of Set 1 : bluff\n",
      "Processing Record 3 of Set 1 : kapaa\n",
      "Processing Record 4 of Set 1 : busselton\n",
      "Processing Record 5 of Set 1 : provideniya\n",
      "Processing Record 6 of Set 1 : geraldton\n",
      "Processing Record 7 of Set 1 : racoasa\n",
      "Processing Record 8 of Set 1 : abapo\n",
      "Processing Record 9 of Set 1 : guerrero negro\n",
      "Processing Record 10 of Set 1 : ushuaia\n",
      "Processing Record 11 of Set 1 : saint-philippe\n",
      "Processing Record 12 of Set 1 : taonan\n",
      "Processing Record 13 of Set 1 : upernavik\n",
      "Processing Record 14 of Set 1 : hilo\n",
      "Processing Record 15 of Set 1 : evanston\n",
      "Processing Record 16 of Set 1 : punta arenas\n",
      "Processing Record 17 of Set 1 : severo-yeniseyskiy\n",
      "Processing Record 18 of Set 1 : ribeira grande\n",
      "City not found. Skipping...\n",
      "Processing Record 19 of Set 1 : cape town\n",
      "Processing Record 20 of Set 1 : vaini\n",
      "Processing Record 21 of Set 1 : saint-georges\n",
      "Processing Record 22 of Set 1 : forssa\n",
      "Processing Record 23 of Set 1 : kamyshevatskaya\n",
      "City not found. Skipping...\n",
      "Processing Record 24 of Set 1 : neryungri\n",
      "Processing Record 25 of Set 1 : lebu\n",
      "Processing Record 26 of Set 1 : alegrete\n",
      "Processing Record 27 of Set 1 : nikolskoye\n",
      "Processing Record 28 of Set 1 : unguia\n",
      "Processing Record 29 of Set 1 : dikson\n",
      "Processing Record 30 of Set 1 : urumqi\n",
      "Processing Record 31 of Set 1 : atuona\n",
      "Processing Record 32 of Set 1 : clyde river\n",
      "Processing Record 33 of Set 1 : sibu\n",
      "Processing Record 34 of Set 1 : rikitea\n",
      "Processing Record 35 of Set 1 : bodden town\n",
      "Processing Record 36 of Set 1 : bredasdorp\n",
      "Processing Record 37 of Set 1 : barrow\n",
      "City not found. Skipping...\n",
      "Processing Record 38 of Set 1 : east london\n",
      "Processing Record 39 of Set 1 : avarua\n",
      "Processing Record 40 of Set 1 : kamenka\n",
      "Processing Record 41 of Set 1 : hermanus\n",
      "Processing Record 42 of Set 1 : oranjemund\n",
      "Processing Record 43 of Set 1 : rio verde de mato grosso\n",
      "Processing Record 44 of Set 1 : salalah\n",
      "Processing Record 45 of Set 1 : lompoc\n",
      "Processing Record 46 of Set 1 : vila franca do campo\n",
      "Processing Record 47 of Set 1 : jaen\n",
      "Processing Record 48 of Set 1 : hobart\n",
      "Processing Record 49 of Set 1 : massa marittima\n",
      "Processing Record 50 of Set 1 : minas\n",
      "Processing Record 0 of Set 2 : faanui\n",
      "Processing Record 1 of Set 2 : castro\n",
      "Processing Record 2 of Set 2 : saskylakh\n",
      "Processing Record 3 of Set 2 : greenville\n",
      "Processing Record 4 of Set 2 : roding\n",
      "Processing Record 5 of Set 2 : andenes\n",
      "Processing Record 6 of Set 2 : hearst\n",
      "Processing Record 7 of Set 2 : baykit\n",
      "Processing Record 8 of Set 2 : puerto ayora\n",
      "Processing Record 9 of Set 2 : den helder\n",
      "City not found. Skipping...\n",
      "Processing Record 10 of Set 2 : albany\n",
      "Processing Record 11 of Set 2 : pangai\n",
      "Processing Record 12 of Set 2 : isangel\n",
      "Processing Record 13 of Set 2 : vallenar\n",
      "Processing Record 14 of Set 2 : namibe\n",
      "Processing Record 15 of Set 2 : ville-marie\n",
      "Processing Record 16 of Set 2 : waitati\n",
      "Processing Record 17 of Set 2 : qaanaaq\n",
      "Processing Record 18 of Set 2 : hithadhoo\n",
      "Processing Record 19 of Set 2 : waingapu\n",
      "City not found. Skipping...\n",
      "Processing Record 20 of Set 2 : plettenberg bay\n",
      "Processing Record 21 of Set 2 : port alfred\n",
      "Processing Record 22 of Set 2 : mabaruma\n",
      "Processing Record 23 of Set 2 : pisco\n",
      "Processing Record 24 of Set 2 : kahului\n",
      "Processing Record 25 of Set 2 : norman wells\n",
      "Processing Record 26 of Set 2 : sao joao da barra\n",
      "Processing Record 27 of Set 2 : umea\n",
      "Processing Record 28 of Set 2 : tukrah\n",
      "Processing Record 29 of Set 2 : moose factory\n",
      "Processing Record 30 of Set 2 : port hedland\n",
      "Processing Record 31 of Set 2 : pochutla\n",
      "Processing Record 32 of Set 2 : mantua\n",
      "Processing Record 33 of Set 2 : astana\n",
      "City not found. Skipping...\n",
      "Processing Record 34 of Set 2 : sakakah\n",
      "Processing Record 35 of Set 2 : tiksi\n",
      "Processing Record 36 of Set 2 : marsa matruh\n",
      "Processing Record 37 of Set 2 : popondetta\n",
      "Processing Record 38 of Set 2 : souillac\n",
      "Processing Record 39 of Set 2 : omboue\n",
      "Processing Record 40 of Set 2 : saldanha\n",
      "Processing Record 41 of Set 2 : panji\n",
      "Processing Record 42 of Set 2 : chemal\n",
      "Processing Record 43 of Set 2 : esperance\n",
      "Processing Record 44 of Set 2 : georgetown\n",
      "Processing Record 45 of Set 2 : lahaina\n",
      "Processing Record 46 of Set 2 : broome\n",
      "Processing Record 47 of Set 2 : yar-sale\n",
      "Processing Record 48 of Set 2 : khatanga\n",
      "City not found. Skipping...\n",
      "Processing Record 49 of Set 2 : narsaq\n",
      "Processing Record 50 of Set 2 : okhotsk\n",
      "Processing Record 0 of Set 3 : arraial do cabo\n",
      "Processing Record 1 of Set 3 : catalina\n",
      "Processing Record 2 of Set 3 : jamestown\n",
      "Processing Record 3 of Set 3 : butaritari\n",
      "Processing Record 4 of Set 3 : cidreira\n",
      "Processing Record 5 of Set 3 : nanortalik\n",
      "Processing Record 6 of Set 3 : vanimo\n",
      "Processing Record 7 of Set 3 : saint george\n",
      "Processing Record 8 of Set 3 : codrington\n",
      "Processing Record 9 of Set 3 : chokurdakh\n",
      "Processing Record 10 of Set 3 : vestmannaeyjar\n",
      "Processing Record 11 of Set 3 : conceicao do araguaia\n",
      "Processing Record 12 of Set 3 : richards bay\n",
      "Processing Record 13 of Set 3 : camapua\n",
      "Processing Record 14 of Set 3 : strezhevoy\n",
      "Processing Record 15 of Set 3 : palmer\n",
      "Processing Record 16 of Set 3 : santa cruz cabralia\n",
      "Processing Record 17 of Set 3 : karratha\n",
      "Processing Record 18 of Set 3 : priargunsk\n",
      "Processing Record 19 of Set 3 : tiznit\n",
      "Processing Record 20 of Set 3 : sitka\n",
      "Processing Record 21 of Set 3 : cayeli\n",
      "Processing Record 22 of Set 3 : carnarvon\n",
      "Processing Record 23 of Set 3 : teknaf\n",
      "City not found. Skipping...\n",
      "Processing Record 24 of Set 3 : waipawa\n",
      "City not found. Skipping...\n",
      "Processing Record 25 of Set 3 : biskamzha\n",
      "Processing Record 26 of Set 3 : anchorage\n",
      "Processing Record 27 of Set 3 : severo-kurilsk\n",
      "Processing Record 28 of Set 3 : minab\n",
      "Processing Record 29 of Set 3 : torbay\n",
      "City not found. Skipping...\n",
      "Processing Record 30 of Set 3 : stromness\n",
      "Processing Record 31 of Set 3 : amazar\n",
      "Processing Record 32 of Set 3 : kolondieba\n",
      "Processing Record 33 of Set 3 : chlorakas\n",
      "Processing Record 34 of Set 3 : bambous virieux\n",
      "Processing Record 35 of Set 3 : tasiilaq\n",
      "City not found. Skipping...\n",
      "Processing Record 36 of Set 3 : vao\n",
      "City not found. Skipping...\n",
      "Processing Record 37 of Set 3 : tupik\n",
      "Processing Record 38 of Set 3 : deseronto\n",
      "Processing Record 39 of Set 3 : leca da palmeira\n",
      "Processing Record 40 of Set 3 : airai\n",
      "Processing Record 41 of Set 3 : lorengau\n",
      "Processing Record 42 of Set 3 : santa cruz del norte\n",
      "Processing Record 43 of Set 3 : tura\n",
      "Processing Record 44 of Set 3 : manavalakurichi\n",
      "Processing Record 45 of Set 3 : klaksvik\n",
      "Processing Record 46 of Set 3 : lavrentiya\n",
      "Processing Record 47 of Set 3 : palaikastron\n",
      "City not found. Skipping...\n",
      "Processing Record 48 of Set 3 : balestrand\n",
      "City not found. Skipping...\n",
      "Processing Record 49 of Set 3 : kokopo\n",
      "Processing Record 50 of Set 3 : port elizabeth\n",
      "Processing Record 0 of Set 4 : flinders\n",
      "Processing Record 1 of Set 4 : fairbanks\n",
      "Processing Record 2 of Set 4 : tekeli\n",
      "Processing Record 3 of Set 4 : khanpur\n",
      "Processing Record 4 of Set 4 : balotra\n",
      "Processing Record 5 of Set 4 : pittsburg\n",
      "Processing Record 6 of Set 4 : benghazi\n",
      "Processing Record 7 of Set 4 : clarksburg\n",
      "Processing Record 8 of Set 4 : san vicente\n",
      "Processing Record 9 of Set 4 : pitalito\n",
      "Processing Record 10 of Set 4 : rabo de peixe\n",
      "City not found. Skipping...\n",
      "Processing Record 11 of Set 4 : pecs\n",
      "Processing Record 12 of Set 4 : kenora\n",
      "Processing Record 13 of Set 4 : bathsheba\n",
      "Processing Record 14 of Set 4 : yellowknife\n",
      "Processing Record 15 of Set 4 : sakaiminato\n",
      "Processing Record 16 of Set 4 : egvekinot\n",
      "Processing Record 17 of Set 4 : proletarsk\n",
      "Processing Record 18 of Set 4 : garowe\n",
      "Processing Record 19 of Set 4 : rodrigues alves\n",
      "Processing Record 20 of Set 4 : havelock\n",
      "Processing Record 21 of Set 4 : atar\n",
      "Processing Record 22 of Set 4 : aksu\n",
      "Processing Record 23 of Set 4 : san patricio\n",
      "Processing Record 24 of Set 4 : hami\n",
      "Processing Record 25 of Set 4 : fuxin\n",
      "Processing Record 26 of Set 4 : daloa\n",
      "Processing Record 27 of Set 4 : manokwari\n",
      "Processing Record 28 of Set 4 : brae\n",
      "Processing Record 29 of Set 4 : husavik\n",
      "Processing Record 30 of Set 4 : oga\n",
      "Processing Record 31 of Set 4 : visby\n",
      "Processing Record 32 of Set 4 : oriximina\n",
      "Processing Record 33 of Set 4 : sorong\n",
      "Processing Record 34 of Set 4 : ancud\n",
      "Processing Record 35 of Set 4 : luderitz\n"
     ]
    },
    {
     "name": "stdout",
     "output_type": "stream",
     "text": [
      "Processing Record 36 of Set 4 : port blair\n",
      "Processing Record 37 of Set 4 : manosque\n",
      "Processing Record 38 of Set 4 : new norfolk\n",
      "Processing Record 39 of Set 4 : lillooet\n",
      "Processing Record 40 of Set 4 : mangrol\n",
      "City not found. Skipping...\n",
      "Processing Record 41 of Set 4 : bengkulu\n",
      "Processing Record 42 of Set 4 : urucara\n",
      "Processing Record 43 of Set 4 : dunedin\n",
      "Processing Record 44 of Set 4 : kokstad\n",
      "Processing Record 45 of Set 4 : cockburn town\n",
      "Processing Record 46 of Set 4 : pekalongan\n",
      "City not found. Skipping...\n",
      "Processing Record 47 of Set 4 : kimparana\n",
      "Processing Record 48 of Set 4 : mahebourg\n",
      "Processing Record 49 of Set 4 : mar del plata\n",
      "Processing Record 50 of Set 4 : noumea\n",
      "Processing Record 0 of Set 5 : kruisfontein\n",
      "Processing Record 1 of Set 5 : ostrovnoy\n",
      "Processing Record 2 of Set 5 : aljezur\n",
      "Processing Record 3 of Set 5 : pevek\n",
      "Processing Record 4 of Set 5 : krasnoselkup\n",
      "Processing Record 5 of Set 5 : sadasivpet\n",
      "Processing Record 6 of Set 5 : abaete\n",
      "Processing Record 7 of Set 5 : neuquen\n",
      "Processing Record 8 of Set 5 : lubawa\n",
      "Processing Record 9 of Set 5 : kavaratti\n",
      "Processing Record 10 of Set 5 : leningradskiy\n",
      "Processing Record 11 of Set 5 : naron\n",
      "Processing Record 12 of Set 5 : miles city\n",
      "City not found. Skipping...\n",
      "City not found. Skipping...\n",
      "Processing Record 13 of Set 5 : sola\n",
      "Processing Record 14 of Set 5 : standerton\n",
      "Processing Record 15 of Set 5 : samarai\n",
      "Processing Record 16 of Set 5 : talnakh\n",
      "Processing Record 17 of Set 5 : rincon\n",
      "Processing Record 18 of Set 5 : biak\n",
      "Processing Record 19 of Set 5 : port lincoln\n",
      "Processing Record 20 of Set 5 : carutapera\n",
      "Processing Record 21 of Set 5 : hualmay\n",
      "Processing Record 22 of Set 5 : belaya gora\n",
      "Processing Record 23 of Set 5 : santiago del estero\n",
      "Processing Record 24 of Set 5 : santander\n",
      "Processing Record 25 of Set 5 : chuy\n",
      "Processing Record 26 of Set 5 : laguna\n",
      "Processing Record 27 of Set 5 : anadyr\n",
      "Processing Record 28 of Set 5 : constitucion\n",
      "Processing Record 29 of Set 5 : padang\n",
      "Processing Record 30 of Set 5 : iqaluit\n",
      "Processing Record 31 of Set 5 : querecotillo\n",
      "Processing Record 32 of Set 5 : imbituba\n",
      "Processing Record 33 of Set 5 : tanabe\n",
      "City not found. Skipping...\n",
      "Processing Record 34 of Set 5 : koslan\n",
      "Processing Record 35 of Set 5 : thompson\n",
      "Processing Record 36 of Set 5 : semnan\n",
      "Processing Record 37 of Set 5 : pierre\n",
      "Processing Record 38 of Set 5 : pemberton\n",
      "Processing Record 39 of Set 5 : vengerovo\n",
      "Processing Record 40 of Set 5 : quesnel\n",
      "Processing Record 41 of Set 5 : manaure\n",
      "Processing Record 42 of Set 5 : longyearbyen\n",
      "Processing Record 43 of Set 5 : rocha\n",
      "Processing Record 44 of Set 5 : tuktoyaktuk\n",
      "Processing Record 45 of Set 5 : rock springs\n",
      "Processing Record 46 of Set 5 : kleive\n",
      "Processing Record 47 of Set 5 : bintulu\n",
      "Processing Record 48 of Set 5 : kavieng\n",
      "Processing Record 49 of Set 5 : deputatskiy\n",
      "Processing Record 50 of Set 5 : anlu\n",
      "Processing Record 0 of Set 6 : vanavara\n",
      "Processing Record 1 of Set 6 : cabo san lucas\n",
      "Processing Record 2 of Set 6 : saint-nazaire\n",
      "Processing Record 3 of Set 6 : tuatapere\n",
      "Processing Record 4 of Set 6 : coquimbo\n",
      "City not found. Skipping...\n",
      "Processing Record 5 of Set 6 : homer\n",
      "Processing Record 6 of Set 6 : poronaysk\n",
      "Processing Record 7 of Set 6 : villa maria\n",
      "Processing Record 8 of Set 6 : taylorville\n",
      "Processing Record 9 of Set 6 : gleisdorf\n",
      "Processing Record 10 of Set 6 : rio pardo de minas\n",
      "Processing Record 11 of Set 6 : yendi\n",
      "Processing Record 12 of Set 6 : kaitangata\n",
      "Processing Record 13 of Set 6 : salinas\n",
      "Processing Record 14 of Set 6 : coffs harbour\n",
      "Processing Record 15 of Set 6 : bluefield\n",
      "Processing Record 16 of Set 6 : chino valley\n",
      "Processing Record 17 of Set 6 : chumikan\n",
      "Processing Record 18 of Set 6 : santa rita\n",
      "Processing Record 19 of Set 6 : aravete\n",
      "City not found. Skipping...\n",
      "Processing Record 20 of Set 6 : zemio\n",
      "Processing Record 21 of Set 6 : vuktyl\n",
      "Processing Record 22 of Set 6 : svetlogorsk\n",
      "Processing Record 23 of Set 6 : ponta do sol\n",
      "Processing Record 24 of Set 6 : calatayud\n",
      "City not found. Skipping...\n",
      "Processing Record 25 of Set 6 : placido de castro\n",
      "Processing Record 26 of Set 6 : linhares\n",
      "Processing Record 27 of Set 6 : bethel\n",
      "City not found. Skipping...\n",
      "Processing Record 28 of Set 6 : rognan\n",
      "Processing Record 29 of Set 6 : diapaga\n",
      "City not found. Skipping...\n",
      "Processing Record 30 of Set 6 : khryashchevka\n",
      "Processing Record 31 of Set 6 : teguise\n",
      "Processing Record 32 of Set 6 : jiaohe\n",
      "Processing Record 33 of Set 6 : tocopilla\n",
      "Processing Record 34 of Set 6 : suhbaatar\n",
      "Processing Record 35 of Set 6 : port-cartier\n",
      "Processing Record 36 of Set 6 : dryden\n",
      "Processing Record 37 of Set 6 : hobyo\n",
      "Processing Record 38 of Set 6 : monterey\n",
      "Processing Record 39 of Set 6 : shelbyville\n",
      "Processing Record 40 of Set 6 : nemuro\n",
      "Processing Record 41 of Set 6 : galveston\n",
      "Processing Record 42 of Set 6 : mujiayingzi\n",
      "Processing Record 43 of Set 6 : novoorsk\n",
      "Processing Record 44 of Set 6 : touros\n",
      "Processing Record 45 of Set 6 : adrar\n",
      "Processing Record 46 of Set 6 : cherskiy\n",
      "City not found. Skipping...\n",
      "Processing Record 47 of Set 6 : margate\n",
      "Processing Record 48 of Set 6 : mossendjo\n",
      "Processing Record 49 of Set 6 : poum\n",
      "Processing Record 50 of Set 6 : oschersleben\n",
      "Processing Record 0 of Set 7 : noyabrsk\n",
      "Processing Record 1 of Set 7 : ust-nera\n",
      "Processing Record 2 of Set 7 : kirovskiy\n",
      "Processing Record 3 of Set 7 : hammerfest\n",
      "City not found. Skipping...\n",
      "Processing Record 4 of Set 7 : limbang\n",
      "Processing Record 5 of Set 7 : burnie\n",
      "Processing Record 6 of Set 7 : christchurch\n",
      "Processing Record 7 of Set 7 : praxedis guerrero\n",
      "Processing Record 8 of Set 7 : henties bay\n",
      "Processing Record 9 of Set 7 : aqtobe\n",
      "Processing Record 10 of Set 7 : kozhva\n",
      "Processing Record 11 of Set 7 : baberu\n",
      "Processing Record 12 of Set 7 : chernyshevskiy\n",
      "City not found. Skipping...\n",
      "Processing Record 13 of Set 7 : aklavik\n",
      "Processing Record 14 of Set 7 : talcahuano\n",
      "Processing Record 15 of Set 7 : los llanos de aridane\n",
      "Processing Record 16 of Set 7 : kidal\n",
      "City not found. Skipping...\n",
      "Processing Record 17 of Set 7 : mogadishu\n",
      "Processing Record 18 of Set 7 : tautira\n",
      "Processing Record 19 of Set 7 : maitum\n",
      "Processing Record 20 of Set 7 : barra do bugres\n",
      "Processing Record 21 of Set 7 : victoria\n",
      "City not found. Skipping...\n",
      "Processing Record 22 of Set 7 : koppang\n",
      "Processing Record 23 of Set 7 : comodoro rivadavia\n",
      "Processing Record 24 of Set 7 : kodiak\n",
      "Processing Record 25 of Set 7 : tenkodogo\n",
      "City not found. Skipping...\n",
      "Processing Record 26 of Set 7 : paranaiba\n",
      "Processing Record 27 of Set 7 : vila velha\n",
      "Processing Record 28 of Set 7 : nagarote\n",
      "Processing Record 29 of Set 7 : farah\n",
      "Processing Record 30 of Set 7 : zhigansk\n",
      "City not found. Skipping...\n",
      "Processing Record 31 of Set 7 : uchaly\n",
      "Processing Record 32 of Set 7 : olinda\n",
      "Processing Record 33 of Set 7 : colac\n",
      "Processing Record 34 of Set 7 : yumen\n",
      "Processing Record 35 of Set 7 : hasaki\n",
      "Processing Record 36 of Set 7 : porto uniao\n",
      "Processing Record 37 of Set 7 : khani\n",
      "Processing Record 38 of Set 7 : caceres\n",
      "Processing Record 39 of Set 7 : amapa\n",
      "City not found. Skipping...\n",
      "Processing Record 40 of Set 7 : fort nelson\n",
      "Processing Record 41 of Set 7 : naze\n",
      "City not found. Skipping...\n",
      "Processing Record 42 of Set 7 : cururupu\n",
      "Processing Record 43 of Set 7 : bentiu\n",
      "Processing Record 44 of Set 7 : san jeronimo\n",
      "Processing Record 45 of Set 7 : mana\n",
      "Processing Record 46 of Set 7 : caronport\n",
      "Processing Record 47 of Set 7 : champerico\n",
      "Processing Record 48 of Set 7 : ilulissat\n",
      "Processing Record 49 of Set 7 : ossora\n",
      "Processing Record 50 of Set 7 : vrangel\n",
      "Processing Record 0 of Set 8 : victor harbor\n",
      "City not found. Skipping...\n",
      "Processing Record 1 of Set 8 : kununurra\n",
      "Processing Record 2 of Set 8 : de-kastri\n",
      "Processing Record 3 of Set 8 : muravlenko\n",
      "Processing Record 4 of Set 8 : kolda\n",
      "Processing Record 5 of Set 8 : sidi ali\n",
      "Processing Record 6 of Set 8 : maniitsoq\n",
      "Processing Record 7 of Set 8 : salekhard\n",
      "Processing Record 8 of Set 8 : gat\n",
      "Processing Record 9 of Set 8 : bonthe\n",
      "Processing Record 10 of Set 8 : mombetsu\n",
      "Processing Record 11 of Set 8 : vodnany\n",
      "Processing Record 12 of Set 8 : winslow\n",
      "Processing Record 13 of Set 8 : pangkalanbuun\n",
      "Processing Record 14 of Set 8 : roma\n",
      "Processing Record 15 of Set 8 : bereda\n",
      "Processing Record 16 of Set 8 : alofi\n",
      "Processing Record 17 of Set 8 : upington\n",
      "Processing Record 18 of Set 8 : skelleftea\n"
     ]
    },
    {
     "name": "stdout",
     "output_type": "stream",
     "text": [
      "Processing Record 19 of Set 8 : wajima\n",
      "Processing Record 20 of Set 8 : san rafael\n",
      "Processing Record 21 of Set 8 : hambantota\n",
      "Processing Record 22 of Set 8 : ulaanbaatar\n",
      "Processing Record 23 of Set 8 : redmond\n",
      "Processing Record 24 of Set 8 : ponazyrevo\n",
      "Processing Record 25 of Set 8 : chicama\n",
      "Processing Record 26 of Set 8 : chimbote\n",
      "Processing Record 27 of Set 8 : bismarck\n",
      "Processing Record 28 of Set 8 : alice springs\n",
      "Processing Record 29 of Set 8 : hovd\n",
      "Processing Record 30 of Set 8 : faya\n",
      "Processing Record 31 of Set 8 : mount gambier\n",
      "Processing Record 32 of Set 8 : maningrida\n",
      "Processing Record 33 of Set 8 : yambio\n",
      "City not found. Skipping...\n",
      "Processing Record 34 of Set 8 : matara\n",
      "Processing Record 35 of Set 8 : kilindoni\n",
      "Processing Record 36 of Set 8 : zapolyarnyy\n",
      "Processing Record 37 of Set 8 : ayorou\n",
      "Processing Record 38 of Set 8 : hamilton\n",
      "Processing Record 39 of Set 8 : surbo\n",
      "Processing Record 40 of Set 8 : ulaangom\n",
      "Processing Record 41 of Set 8 : kijang\n",
      "Processing Record 42 of Set 8 : harer\n",
      "Processing Record 43 of Set 8 : grindavik\n",
      "City not found. Skipping...\n",
      "Processing Record 44 of Set 8 : ulladulla\n",
      "City not found. Skipping...\n",
      "Processing Record 45 of Set 8 : newcastle\n",
      "Processing Record 46 of Set 8 : abnub\n",
      "Processing Record 47 of Set 8 : banda aceh\n",
      "Processing Record 48 of Set 8 : katobu\n",
      "Processing Record 49 of Set 8 : makakilo city\n",
      "Processing Record 50 of Set 8 : cary\n",
      "Processing Record 0 of Set 9 : porto santo\n",
      "Processing Record 1 of Set 9 : kamogawa\n",
      "Processing Record 2 of Set 9 : dali\n",
      "Processing Record 3 of Set 9 : pacific grove\n",
      "Processing Record 4 of Set 9 : mglin\n",
      "Processing Record 5 of Set 9 : san andres\n",
      "Processing Record 6 of Set 9 : harper\n",
      "Processing Record 7 of Set 9 : mubi\n",
      "Processing Record 8 of Set 9 : hay river\n",
      "Processing Record 9 of Set 9 : kupang\n",
      "Processing Record 10 of Set 9 : tecoanapa\n",
      "Processing Record 11 of Set 9 : victoria point\n",
      "City not found. Skipping...\n",
      "Processing Record 12 of Set 9 : bulgan\n",
      "Processing Record 13 of Set 9 : lewiston\n",
      "Processing Record 14 of Set 9 : jalu\n",
      "Processing Record 15 of Set 9 : harboore\n",
      "Processing Record 16 of Set 9 : te anau\n",
      "Processing Record 17 of Set 9 : fandriana\n",
      "Processing Record 18 of Set 9 : houma\n",
      "Processing Record 19 of Set 9 : saint-augustin\n",
      "Processing Record 20 of Set 9 : morondava\n",
      "Processing Record 21 of Set 9 : katsuura\n",
      "Processing Record 22 of Set 9 : nara\n",
      "Processing Record 23 of Set 9 : hirado\n",
      "Processing Record 24 of Set 9 : raudeberg\n",
      "Processing Record 25 of Set 9 : cobija\n",
      "Processing Record 26 of Set 9 : cocachacra\n",
      "Processing Record 27 of Set 9 : hefei\n",
      "Processing Record 28 of Set 9 : huilong\n",
      "Processing Record 29 of Set 9 : yulara\n",
      "Processing Record 30 of Set 9 : half moon bay\n",
      "Processing Record 31 of Set 9 : turinsk\n",
      "Processing Record 32 of Set 9 : petropavlovsk-kamchatskiy\n",
      "Processing Record 33 of Set 9 : nhulunbuy\n",
      "Processing Record 34 of Set 9 : seoul\n",
      "Processing Record 35 of Set 9 : mabopane\n",
      "Processing Record 36 of Set 9 : bayeux\n",
      "Processing Record 37 of Set 9 : inuvik\n",
      "Processing Record 38 of Set 9 : muisne\n",
      "Processing Record 39 of Set 9 : general roca\n",
      "Processing Record 40 of Set 9 : kumbo\n",
      "Processing Record 41 of Set 9 : cuamba\n",
      "Processing Record 42 of Set 9 : tougue\n",
      "Processing Record 43 of Set 9 : cap malheureux\n",
      "Processing Record 44 of Set 9 : mattawa\n",
      "Processing Record 45 of Set 9 : inhambane\n",
      "Processing Record 46 of Set 9 : matagami\n",
      "Processing Record 47 of Set 9 : grand gaube\n",
      "Processing Record 48 of Set 9 : parkes\n",
      "Processing Record 49 of Set 9 : mitsamiouli\n",
      "Processing Record 50 of Set 9 : big spring\n",
      "Processing Record 0 of Set 10 : penzance\n",
      "Processing Record 1 of Set 10 : khairpur\n",
      "City not found. Skipping...\n",
      "Processing Record 2 of Set 10 : fortuna\n",
      "Processing Record 3 of Set 10 : saint-joseph\n",
      "Processing Record 4 of Set 10 : magadi\n",
      "Processing Record 5 of Set 10 : koutsouras\n",
      "Processing Record 6 of Set 10 : saint-claude\n",
      "Processing Record 7 of Set 10 : auki\n",
      "Processing Record 8 of Set 10 : avera\n",
      "Processing Record 9 of Set 10 : fukue\n",
      "Processing Record 10 of Set 10 : trairi\n",
      "Processing Record 11 of Set 10 : eydhafushi\n",
      "Processing Record 12 of Set 10 : isla vista\n",
      "Processing Record 13 of Set 10 : phan thiet\n",
      "Processing Record 14 of Set 10 : synya\n",
      "Processing Record 15 of Set 10 : lazaro cardenas\n",
      "Processing Record 16 of Set 10 : monticello\n",
      "Processing Record 17 of Set 10 : bolshoy kamen\n",
      "Processing Record 18 of Set 10 : porto novo\n",
      "Processing Record 19 of Set 10 : knysna\n",
      "Processing Record 20 of Set 10 : ust-koksa\n",
      "Processing Record 21 of Set 10 : nalut\n",
      "Processing Record 22 of Set 10 : shelburne\n",
      "Processing Record 23 of Set 10 : dingle\n",
      "Processing Record 24 of Set 10 : katrineholm\n",
      "Processing Record 25 of Set 10 : labuhan\n",
      "Processing Record 26 of Set 10 : riberalta\n",
      "Processing Record 27 of Set 10 : ormara\n",
      "Processing Record 28 of Set 10 : haines junction\n",
      "Processing Record 29 of Set 10 : dakar\n",
      "Processing Record 30 of Set 10 : bandarbeyla\n",
      "Processing Record 31 of Set 10 : kingaroy\n",
      "Processing Record 32 of Set 10 : matata\n",
      "Processing Record 33 of Set 10 : inirida\n",
      "Processing Record 34 of Set 10 : hvolsvollur\n",
      "Processing Record 35 of Set 10 : coari\n",
      "City not found. Skipping...\n",
      "Processing Record 36 of Set 10 : udachnyy\n",
      "Processing Record 37 of Set 10 : alekseyevsk\n",
      "Processing Record 38 of Set 10 : miraflores\n",
      "Processing Record 39 of Set 10 : maraa\n",
      "Processing Record 40 of Set 10 : san cristobal\n",
      "Processing Record 41 of Set 10 : gimli\n",
      "Processing Record 42 of Set 10 : iquitos\n",
      "Processing Record 43 of Set 10 : rio gallegos\n",
      "Processing Record 44 of Set 10 : ornskoldsvik\n",
      "Processing Record 45 of Set 10 : mecca\n",
      "Processing Record 46 of Set 10 : tolaga bay\n",
      "Processing Record 47 of Set 10 : yerbogachen\n",
      "Processing Record 48 of Set 10 : talara\n",
      "Processing Record 49 of Set 10 : namatanai\n",
      "Processing Record 50 of Set 10 : la rochelle\n",
      "Processing Record 0 of Set 11 : bayan\n",
      "Processing Record 1 of Set 11 : funadhoo\n",
      "Processing Record 2 of Set 11 : daru\n",
      "Processing Record 3 of Set 11 : sambava\n",
      "Processing Record 4 of Set 11 : muros\n",
      "Processing Record 5 of Set 11 : oak ridge\n",
      "Processing Record 6 of Set 11 : nazare\n",
      "City not found. Skipping...\n",
      "Processing Record 7 of Set 11 : charlestown\n",
      "City not found. Skipping...\n",
      "Processing Record 8 of Set 11 : dongli\n",
      "Processing Record 9 of Set 11 : santa maria\n",
      "Processing Record 10 of Set 11 : itoman\n",
      "Processing Record 11 of Set 11 : mizan teferi\n",
      "Processing Record 12 of Set 11 : nelson bay\n",
      "Processing Record 13 of Set 11 : villena\n",
      "Processing Record 14 of Set 11 : rio grande\n",
      "Processing Record 15 of Set 11 : tiarei\n",
      "City not found. Skipping...\n",
      "Processing Record 16 of Set 11 : ambulu\n",
      "Processing Record 17 of Set 11 : prince george\n",
      "Processing Record 18 of Set 11 : sovetskiy\n",
      "Processing Record 19 of Set 11 : santa cruz\n",
      "Processing Record 20 of Set 11 : ukiah\n",
      "Processing Record 21 of Set 11 : kedgwick\n",
      "Processing Record 22 of Set 11 : stokmarknes\n",
      "Processing Record 23 of Set 11 : najran\n",
      "Processing Record 24 of Set 11 : pecos\n",
      "Processing Record 25 of Set 11 : solnechnyy\n",
      "Processing Record 26 of Set 11 : paamiut\n",
      "Processing Record 27 of Set 11 : collierville\n",
      "Processing Record 28 of Set 11 : bayanday\n",
      "Processing Record 29 of Set 11 : puerto leguizamo\n",
      "Processing Record 30 of Set 11 : dzilam gonzalez\n",
      "Processing Record 31 of Set 11 : portel\n",
      "Processing Record 32 of Set 11 : sorland\n",
      "Processing Record 33 of Set 11 : ankazobe\n",
      "Processing Record 34 of Set 11 : la gomera\n",
      "Processing Record 35 of Set 11 : lunenburg\n",
      "Processing Record 36 of Set 11 : finnsnes\n",
      "City not found. Skipping...\n",
      "Processing Record 37 of Set 11 : hof\n",
      "Processing Record 38 of Set 11 : porangatu\n",
      "Processing Record 39 of Set 11 : palana\n",
      "Processing Record 40 of Set 11 : evensk\n",
      "Processing Record 41 of Set 11 : namanga\n",
      "Processing Record 42 of Set 11 : tombouctou\n",
      "Processing Record 43 of Set 11 : ngaoundere\n",
      "Processing Record 44 of Set 11 : ahar\n",
      "Processing Record 45 of Set 11 : quatre cocos\n",
      "Processing Record 46 of Set 11 : chazuta\n",
      "Processing Record 47 of Set 11 : pemba\n",
      "Processing Record 48 of Set 11 : nueva guinea\n",
      "Processing Record 49 of Set 11 : jadu\n",
      "Processing Record 50 of Set 11 : ambatondrazaka\n",
      "Processing Record 0 of Set 12 : lima\n",
      "Processing Record 1 of Set 12 : hervey bay\n",
      "Processing Record 2 of Set 12 : corowa\n",
      "Processing Record 3 of Set 12 : manakara\n",
      "Processing Record 4 of Set 12 : abu kamal\n",
      "Processing Record 5 of Set 12 : immokalee\n"
     ]
    },
    {
     "name": "stdout",
     "output_type": "stream",
     "text": [
      "Processing Record 6 of Set 12 : wahpeton\n",
      "Processing Record 7 of Set 12 : saryg-sep\n",
      "Processing Record 8 of Set 12 : beringovskiy\n",
      "Processing Record 9 of Set 12 : bilma\n",
      "Processing Record 10 of Set 12 : lasa\n",
      "Processing Record 11 of Set 12 : ulkan\n",
      "Processing Record 12 of Set 12 : tabuk\n",
      "Processing Record 13 of Set 12 : keti bandar\n",
      "Processing Record 14 of Set 12 : sabha\n",
      "Processing Record 15 of Set 12 : puerto madryn\n",
      "Processing Record 16 of Set 12 : eureka\n",
      "Processing Record 17 of Set 12 : ostersund\n",
      "Processing Record 18 of Set 12 : cayenne\n",
      "Processing Record 19 of Set 12 : birnin kebbi\n",
      "Processing Record 20 of Set 12 : huangnihe\n",
      "City not found. Skipping...\n",
      "Processing Record 21 of Set 12 : bose\n",
      "Processing Record 22 of Set 12 : mahad\n",
      "Processing Record 23 of Set 12 : palauig\n",
      "------------------------\n",
      "Data Retrieval Complete\n",
      "------------------------\n"
     ]
    }
   ],
   "source": [
    "print('Beginning Data Retrieval')\n",
    "print('------------------------')\n",
    "\n",
    "for city in cities:\n",
    "    city_query = query_url + city\n",
    "    response = requests.get(city_query).json()\n",
    "    \n",
    "    try:\n",
    "        City.append(response['name'])\n",
    "        Lat.append(response['coord']['lat'])\n",
    "        Lng.append(response['coord']['lon'])\n",
    "        Max_Temp.append(response['main']['temp_max'])\n",
    "        Humidity.append(response['main']['humidity'])\n",
    "        Cloudiness.append(response['clouds']['all'])\n",
    "        Wind_Speed.append(response['wind']['speed'])\n",
    "        Country.append(response['sys']['country'])\n",
    "        Date.append(response['dt'])\n",
    "        \n",
    "        if Index_Count > 49:\n",
    "            Index_Count = 0\n",
    "            Count += 1\n",
    "        else:\n",
    "            Index_Count += 1\n",
    "            \n",
    "        print(f'Processing Record {Index_Count} of Set {Count} : {city}')\n",
    "    \n",
    "    except(KeyError, IndexError):\n",
    "        print('City not found. Skipping...')\n",
    "        \n",
    "print('------------------------')\n",
    "print('Data Retrieval Complete')\n",
    "print('------------------------')"
   ]
  },
  {
   "cell_type": "markdown",
   "metadata": {},
   "source": [
    "Convert Raw Data to DataFrame\n",
    "* Export the city data into a .csv.\n",
    "* Display the DataFrame"
   ]
  },
  {
   "cell_type": "code",
   "execution_count": 24,
   "metadata": {},
   "outputs": [
    {
     "data": {
      "text/html": [
       "<div>\n",
       "<style scoped>\n",
       "    .dataframe tbody tr th:only-of-type {\n",
       "        vertical-align: middle;\n",
       "    }\n",
       "\n",
       "    .dataframe tbody tr th {\n",
       "        vertical-align: top;\n",
       "    }\n",
       "\n",
       "    .dataframe thead th {\n",
       "        text-align: right;\n",
       "    }\n",
       "</style>\n",
       "<table border=\"1\" class=\"dataframe\">\n",
       "  <thead>\n",
       "    <tr style=\"text-align: right;\">\n",
       "      <th></th>\n",
       "      <th>City</th>\n",
       "      <th>Lat</th>\n",
       "      <th>Lng</th>\n",
       "      <th>Max Temp</th>\n",
       "      <th>Humidity</th>\n",
       "      <th>Cloudiness</th>\n",
       "      <th>Wind Speed</th>\n",
       "      <th>Country</th>\n",
       "      <th>Date</th>\n",
       "    </tr>\n",
       "  </thead>\n",
       "  <tbody>\n",
       "    <tr>\n",
       "      <th>0</th>\n",
       "      <td>Mataura</td>\n",
       "      <td>-46.19</td>\n",
       "      <td>168.86</td>\n",
       "      <td>61.00</td>\n",
       "      <td>71</td>\n",
       "      <td>71</td>\n",
       "      <td>5.01</td>\n",
       "      <td>NZ</td>\n",
       "      <td>1603937847</td>\n",
       "    </tr>\n",
       "    <tr>\n",
       "      <th>1</th>\n",
       "      <td>Bluff</td>\n",
       "      <td>-46.60</td>\n",
       "      <td>168.33</td>\n",
       "      <td>61.00</td>\n",
       "      <td>71</td>\n",
       "      <td>72</td>\n",
       "      <td>5.01</td>\n",
       "      <td>NZ</td>\n",
       "      <td>1603937809</td>\n",
       "    </tr>\n",
       "    <tr>\n",
       "      <th>2</th>\n",
       "      <td>Kapaa</td>\n",
       "      <td>22.08</td>\n",
       "      <td>-159.32</td>\n",
       "      <td>77.00</td>\n",
       "      <td>83</td>\n",
       "      <td>90</td>\n",
       "      <td>3.36</td>\n",
       "      <td>US</td>\n",
       "      <td>1603937795</td>\n",
       "    </tr>\n",
       "    <tr>\n",
       "      <th>3</th>\n",
       "      <td>Busselton</td>\n",
       "      <td>-33.65</td>\n",
       "      <td>115.33</td>\n",
       "      <td>73.00</td>\n",
       "      <td>33</td>\n",
       "      <td>0</td>\n",
       "      <td>10.60</td>\n",
       "      <td>AU</td>\n",
       "      <td>1603937850</td>\n",
       "    </tr>\n",
       "    <tr>\n",
       "      <th>4</th>\n",
       "      <td>Provideniya</td>\n",
       "      <td>64.38</td>\n",
       "      <td>-173.30</td>\n",
       "      <td>26.60</td>\n",
       "      <td>68</td>\n",
       "      <td>0</td>\n",
       "      <td>4.47</td>\n",
       "      <td>RU</td>\n",
       "      <td>1603938174</td>\n",
       "    </tr>\n",
       "    <tr>\n",
       "      <th>...</th>\n",
       "      <td>...</td>\n",
       "      <td>...</td>\n",
       "      <td>...</td>\n",
       "      <td>...</td>\n",
       "      <td>...</td>\n",
       "      <td>...</td>\n",
       "      <td>...</td>\n",
       "      <td>...</td>\n",
       "      <td>...</td>\n",
       "    </tr>\n",
       "    <tr>\n",
       "      <th>579</th>\n",
       "      <td>Birnin Kebbi</td>\n",
       "      <td>12.45</td>\n",
       "      <td>4.20</td>\n",
       "      <td>77.31</td>\n",
       "      <td>27</td>\n",
       "      <td>0</td>\n",
       "      <td>4.76</td>\n",
       "      <td>NG</td>\n",
       "      <td>1603938316</td>\n",
       "    </tr>\n",
       "    <tr>\n",
       "      <th>580</th>\n",
       "      <td>Huangnihe</td>\n",
       "      <td>43.56</td>\n",
       "      <td>128.02</td>\n",
       "      <td>38.79</td>\n",
       "      <td>61</td>\n",
       "      <td>0</td>\n",
       "      <td>12.08</td>\n",
       "      <td>CN</td>\n",
       "      <td>1603938316</td>\n",
       "    </tr>\n",
       "    <tr>\n",
       "      <th>581</th>\n",
       "      <td>Bose</td>\n",
       "      <td>45.46</td>\n",
       "      <td>8.01</td>\n",
       "      <td>48.00</td>\n",
       "      <td>89</td>\n",
       "      <td>100</td>\n",
       "      <td>2.15</td>\n",
       "      <td>IT</td>\n",
       "      <td>1603938316</td>\n",
       "    </tr>\n",
       "    <tr>\n",
       "      <th>582</th>\n",
       "      <td>Mahād</td>\n",
       "      <td>18.08</td>\n",
       "      <td>73.42</td>\n",
       "      <td>75.81</td>\n",
       "      <td>77</td>\n",
       "      <td>21</td>\n",
       "      <td>3.00</td>\n",
       "      <td>IN</td>\n",
       "      <td>1603938317</td>\n",
       "    </tr>\n",
       "    <tr>\n",
       "      <th>583</th>\n",
       "      <td>Palauig</td>\n",
       "      <td>15.44</td>\n",
       "      <td>119.90</td>\n",
       "      <td>83.64</td>\n",
       "      <td>70</td>\n",
       "      <td>100</td>\n",
       "      <td>3.31</td>\n",
       "      <td>PH</td>\n",
       "      <td>1603938317</td>\n",
       "    </tr>\n",
       "  </tbody>\n",
       "</table>\n",
       "<p>584 rows × 9 columns</p>\n",
       "</div>"
      ],
      "text/plain": [
       "             City    Lat     Lng  Max Temp  Humidity  Cloudiness  Wind Speed  \\\n",
       "0         Mataura -46.19  168.86     61.00        71          71        5.01   \n",
       "1           Bluff -46.60  168.33     61.00        71          72        5.01   \n",
       "2           Kapaa  22.08 -159.32     77.00        83          90        3.36   \n",
       "3       Busselton -33.65  115.33     73.00        33           0       10.60   \n",
       "4     Provideniya  64.38 -173.30     26.60        68           0        4.47   \n",
       "..            ...    ...     ...       ...       ...         ...         ...   \n",
       "579  Birnin Kebbi  12.45    4.20     77.31        27           0        4.76   \n",
       "580     Huangnihe  43.56  128.02     38.79        61           0       12.08   \n",
       "581          Bose  45.46    8.01     48.00        89         100        2.15   \n",
       "582         Mahād  18.08   73.42     75.81        77          21        3.00   \n",
       "583       Palauig  15.44  119.90     83.64        70         100        3.31   \n",
       "\n",
       "    Country        Date  \n",
       "0        NZ  1603937847  \n",
       "1        NZ  1603937809  \n",
       "2        US  1603937795  \n",
       "3        AU  1603937850  \n",
       "4        RU  1603938174  \n",
       "..      ...         ...  \n",
       "579      NG  1603938316  \n",
       "580      CN  1603938316  \n",
       "581      IT  1603938316  \n",
       "582      IN  1603938317  \n",
       "583      PH  1603938317  \n",
       "\n",
       "[584 rows x 9 columns]"
      ]
     },
     "execution_count": 24,
     "metadata": {},
     "output_type": "execute_result"
    }
   ],
   "source": [
    "weatherpy_dict = pd.DataFrame({\n",
    "    'City': City,\n",
    "    'Lat': Lat,\n",
    "    'Lng': Lng,\n",
    "    'Max Temp': Max_Temp,\n",
    "    'Humidity': Humidity,\n",
    "    'Cloudiness': Cloudiness,\n",
    "    'Wind Speed': Wind_Speed,\n",
    "    'Country': Country,\n",
    "    'Date': Date,\n",
    "})\n",
    "weatherpy_data = pd.DataFrame(weatherpy_dict)\n",
    "weatherpy_data"
   ]
  },
  {
   "cell_type": "code",
   "execution_count": 8,
   "metadata": {},
   "outputs": [
    {
     "data": {
      "text/html": [
       "<div>\n",
       "<style scoped>\n",
       "    .dataframe tbody tr th:only-of-type {\n",
       "        vertical-align: middle;\n",
       "    }\n",
       "\n",
       "    .dataframe tbody tr th {\n",
       "        vertical-align: top;\n",
       "    }\n",
       "\n",
       "    .dataframe thead th {\n",
       "        text-align: right;\n",
       "    }\n",
       "</style>\n",
       "<table border=\"1\" class=\"dataframe\">\n",
       "  <thead>\n",
       "    <tr style=\"text-align: right;\">\n",
       "      <th></th>\n",
       "      <th>Lat</th>\n",
       "      <th>Lng</th>\n",
       "      <th>Max Temp</th>\n",
       "      <th>Humidity</th>\n",
       "      <th>Cloudiness</th>\n",
       "      <th>Wind Speed</th>\n",
       "      <th>Date</th>\n",
       "    </tr>\n",
       "  </thead>\n",
       "  <tbody>\n",
       "    <tr>\n",
       "      <th>count</th>\n",
       "      <td>584.00</td>\n",
       "      <td>584.00</td>\n",
       "      <td>584.00</td>\n",
       "      <td>584.00</td>\n",
       "      <td>584.00</td>\n",
       "      <td>584.00</td>\n",
       "      <td>5.840000e+02</td>\n",
       "    </tr>\n",
       "    <tr>\n",
       "      <th>mean</th>\n",
       "      <td>19.67</td>\n",
       "      <td>14.91</td>\n",
       "      <td>57.44</td>\n",
       "      <td>74.53</td>\n",
       "      <td>49.27</td>\n",
       "      <td>7.38</td>\n",
       "      <td>1.603938e+09</td>\n",
       "    </tr>\n",
       "    <tr>\n",
       "      <th>std</th>\n",
       "      <td>34.15</td>\n",
       "      <td>92.29</td>\n",
       "      <td>21.49</td>\n",
       "      <td>19.31</td>\n",
       "      <td>40.55</td>\n",
       "      <td>5.47</td>\n",
       "      <td>1.772800e+02</td>\n",
       "    </tr>\n",
       "    <tr>\n",
       "      <th>min</th>\n",
       "      <td>-54.80</td>\n",
       "      <td>-179.17</td>\n",
       "      <td>-9.54</td>\n",
       "      <td>7.00</td>\n",
       "      <td>0.00</td>\n",
       "      <td>0.45</td>\n",
       "      <td>1.603937e+09</td>\n",
       "    </tr>\n",
       "    <tr>\n",
       "      <th>25%</th>\n",
       "      <td>-9.70</td>\n",
       "      <td>-67.96</td>\n",
       "      <td>43.00</td>\n",
       "      <td>65.00</td>\n",
       "      <td>1.00</td>\n",
       "      <td>3.36</td>\n",
       "      <td>1.603938e+09</td>\n",
       "    </tr>\n",
       "    <tr>\n",
       "      <th>50%</th>\n",
       "      <td>26.27</td>\n",
       "      <td>15.28</td>\n",
       "      <td>61.62</td>\n",
       "      <td>79.00</td>\n",
       "      <td>42.50</td>\n",
       "      <td>5.82</td>\n",
       "      <td>1.603938e+09</td>\n",
       "    </tr>\n",
       "    <tr>\n",
       "      <th>75%</th>\n",
       "      <td>48.21</td>\n",
       "      <td>97.94</td>\n",
       "      <td>75.21</td>\n",
       "      <td>88.25</td>\n",
       "      <td>90.00</td>\n",
       "      <td>10.29</td>\n",
       "      <td>1.603938e+09</td>\n",
       "    </tr>\n",
       "    <tr>\n",
       "      <th>max</th>\n",
       "      <td>78.22</td>\n",
       "      <td>179.32</td>\n",
       "      <td>98.60</td>\n",
       "      <td>100.00</td>\n",
       "      <td>100.00</td>\n",
       "      <td>44.27</td>\n",
       "      <td>1.603938e+09</td>\n",
       "    </tr>\n",
       "  </tbody>\n",
       "</table>\n",
       "</div>"
      ],
      "text/plain": [
       "          Lat     Lng  Max Temp  Humidity  Cloudiness  Wind Speed  \\\n",
       "count  584.00  584.00    584.00    584.00      584.00      584.00   \n",
       "mean    19.67   14.91     57.44     74.53       49.27        7.38   \n",
       "std     34.15   92.29     21.49     19.31       40.55        5.47   \n",
       "min    -54.80 -179.17     -9.54      7.00        0.00        0.45   \n",
       "25%     -9.70  -67.96     43.00     65.00        1.00        3.36   \n",
       "50%     26.27   15.28     61.62     79.00       42.50        5.82   \n",
       "75%     48.21   97.94     75.21     88.25       90.00       10.29   \n",
       "max     78.22  179.32     98.60    100.00      100.00       44.27   \n",
       "\n",
       "               Date  \n",
       "count  5.840000e+02  \n",
       "mean   1.603938e+09  \n",
       "std    1.772800e+02  \n",
       "min    1.603937e+09  \n",
       "25%    1.603938e+09  \n",
       "50%    1.603938e+09  \n",
       "75%    1.603938e+09  \n",
       "max    1.603938e+09  "
      ]
     },
     "execution_count": 8,
     "metadata": {},
     "output_type": "execute_result"
    }
   ],
   "source": [
    "weatherpy_data.describe().round(2)"
   ]
  },
  {
   "cell_type": "code",
   "execution_count": 26,
   "metadata": {},
   "outputs": [],
   "source": [
    "weatherpy_data.to_csv('Output/raw_data.csv', index = False, header = True)"
   ]
  },
  {
   "cell_type": "code",
   "execution_count": null,
   "metadata": {},
   "outputs": [],
   "source": []
  },
  {
   "cell_type": "markdown",
   "metadata": {},
   "source": [
    "## Plotting the Data\n",
    "* Use proper labeling of the plots using plot titles (including date of analysis) and axes labels.\n",
    "* Save the plotted figures as .pngs."
   ]
  },
  {
   "cell_type": "markdown",
   "metadata": {},
   "source": [
    "## Latitude vs. Temperature Plot"
   ]
  },
  {
   "cell_type": "code",
   "execution_count": 27,
   "metadata": {
    "scrolled": true
   },
   "outputs": [
    {
     "data": {
      "image/png": "[encoded data removed]",
      "text/plain": [
       "<Figure size 432x288 with 1 Axes>"
      ]
     },
     "metadata": {
      "needs_background": "light"
     },
     "output_type": "display_data"
    }
   ],
   "source": [
    "weatherpy_data.plot(kind='scatter', x='Lat', y='Max Temp')\n",
    "plt.grid(color='gray', linestyle='-', linewidth=1)\n",
    "plt.xlabel('Latitude')\n",
    "plt.ylabel('Max Temperature (F)')\n",
    "plt.title('City Latitude vs. Max Tempature (10/28/20)')\n",
    "plt.savefig(\"Images/Latitude vs. Temperature Plot.png\")\n",
    "plt.show()"
   ]
  },
  {
   "cell_type": "markdown",
   "metadata": {},
   "source": [
    "## Latitude vs. Humidity Plot"
   ]
  },
  {
   "cell_type": "code",
   "execution_count": 28,
   "metadata": {},
   "outputs": [
    {
     "data": {
      "image/png": "[encoded data removed]",
      "text/plain": [
       "<Figure size 432x288 with 1 Axes>"
      ]
     },
     "metadata": {
      "needs_background": "light"
     },
     "output_type": "display_data"
    }
   ],
   "source": [
    "weatherpy_data.plot(kind='scatter', x='Lat', y='Humidity')\n",
    "plt.grid(color='gray', linestyle='-', linewidth=1)\n",
    "plt.xlabel('Latitude')\n",
    "plt.ylabel('Humidity (%)')\n",
    "plt.title('City Latitude vs. Humidity (10/28/20)')\n",
    "plt.savefig(\"Images/Latitude vs. Humidity Plot.png\")\n",
    "plt.show()"
   ]
  },
  {
   "cell_type": "code",
   "execution_count": null,
   "metadata": {},
   "outputs": [],
   "source": []
  },
  {
   "cell_type": "markdown",
   "metadata": {},
   "source": [
    "## Latitude vs. Cloudiness Plot"
   ]
  },
  {
   "cell_type": "code",
   "execution_count": 29,
   "metadata": {},
   "outputs": [
    {
     "data": {
      "image/png": "[encoded data removed]",
      "text/plain": [
       "<Figure size 432x288 with 1 Axes>"
      ]
     },
     "metadata": {
      "needs_background": "light"
     },
     "output_type": "display_data"
    }
   ],
   "source": [
    "weatherpy_data.plot(kind='scatter', x='Lat', y='Cloudiness')\n",
    "plt.grid(color='gray', linestyle='-', linewidth=1)\n",
    "plt.xlabel('Latitude')\n",
    "plt.ylabel('Humidity (%)')\n",
    "plt.title('City Latitude vs. Cloudiness (10/28/20)')\n",
    "plt.savefig(\"Images/Latitude vs. Cloudiness Plot.png\")\n",
    "plt.show()"
   ]
  },
  {
   "cell_type": "markdown",
   "metadata": {},
   "source": [
    "## Latitude vs. Wind Speed Plot"
   ]
  },
  {
   "cell_type": "code",
   "execution_count": 30,
   "metadata": {},
   "outputs": [
    {
     "data": {
      "image/png": "[encoded data removed]",
      "text/plain": [
       "<Figure size 432x288 with 1 Axes>"
      ]
     },
     "metadata": {
      "needs_background": "light"
     },
     "output_type": "display_data"
    }
   ],
   "source": [
    "weatherpy_data.plot(kind='scatter', x='Lat', y='Wind Speed')\n",
    "plt.grid(color='gray', linestyle='-', linewidth=1)\n",
    "plt.xlabel('Latitude')\n",
    "plt.ylabel('Humidity (%)')\n",
    "plt.title('City Latitude vs. Wind Speed (10/28/20)')\n",
    "plt.savefig(\"Images/Latitude vs. Wind Speed Plot.png\")\n",
    "plt.show()"
   ]
  },
  {
   "cell_type": "markdown",
   "metadata": {},
   "source": [
    "## Linear Regression"
   ]
  },
  {
   "cell_type": "code",
   "execution_count": 31,
   "metadata": {},
   "outputs": [],
   "source": [
    "northern_hem = weatherpy_data.loc[weatherpy_data['Lat'] >= 0]"
   ]
  },
  {
   "cell_type": "markdown",
   "metadata": {},
   "source": [
    "####  Northern Hemisphere - Max Temp vs. Latitude Linear Regression"
   ]
  },
  {
   "cell_type": "code",
   "execution_count": 32,
   "metadata": {},
   "outputs": [
    {
     "name": "stdout",
     "output_type": "stream",
     "text": [
      "The r-value is:  -0.8633866203925769\n"
     ]
    },
    {
     "name": "stderr",
     "output_type": "stream",
     "text": [
      "C:\\Users\\jpegr\\Anaconda3\\envs\\PythonData\\lib\\site-packages\\ipykernel_launcher.py:12: SettingWithCopyWarning: \n",
      "A value is trying to be set on a copy of a slice from a DataFrame.\n",
      "Try using .loc[row_indexer,col_indexer] = value instead\n",
      "\n",
      "See the caveats in the documentation: https://pandas.pydata.org/pandas-docs/stable/user_guide/indexing.html#returning-a-view-versus-a-copy\n",
      "  if sys.path[0] == '':\n"
     ]
    },
    {
     "data": {
      "image/png": "[encoded data removed]",
      "text/plain": [
       "<Figure size 432x288 with 1 Axes>"
      ]
     },
     "metadata": {
      "needs_background": "light"
     },
     "output_type": "display_data"
    }
   ],
   "source": [
    "x_values = northern_hem['Lat']\n",
    "y_values = northern_hem['Max Temp']\n",
    "\n",
    "result = stats.linregress(x_values, y_values)\n",
    "slope = result.slope\n",
    "intercept = result.intercept\n",
    "rvalue = result.rvalue\n",
    "\n",
    "print(\"The r-value is: \" , (rvalue))\n",
    "\n",
    "regress_values = x_values * slope + intercept\n",
    "northern_hem['regress max temp'] = regress_values\n",
    "\n",
    "plt.scatter(x_values, y_values)\n",
    "plt.plot(x_values, regress_values, color='red')\n",
    "\n",
    "plt.xlabel('Latitude')\n",
    "plt.ylabel('Max Temp')\n",
    "plt.title('Northern Hemisphere - Max Temp vs. Latitude (10/28/20)')\n",
    "\n",
    "eq = f'y = {round(slope, 2)}x + {round(intercept, 2)}'\n",
    "r_squared = f'r^2 = {round(rvalue ** 2, 2)}'\n",
    "\n",
    "plt.annotate(eq, (40, 20.5), color='red')\n",
    "plt.annotate(r_squared, (40, 19), color='red')\n",
    "plt.savefig(\"Images/Northern Hemisphere - Max Temp vs. Latitude Linear Regression.png\")\n",
    "plt.show()"
   ]
  },
  {
   "cell_type": "code",
   "execution_count": null,
   "metadata": {},
   "outputs": [],
   "source": []
  },
  {
   "cell_type": "markdown",
   "metadata": {},
   "source": [
    "####  Southern Hemisphere - Max Temp vs. Latitude Linear Regression"
   ]
  },
  {
   "cell_type": "code",
   "execution_count": 16,
   "metadata": {},
   "outputs": [],
   "source": [
    "southern_hem = weatherpy_data.loc[weatherpy_data['Lat'] < 0]"
   ]
  },
  {
   "cell_type": "code",
   "execution_count": 33,
   "metadata": {},
   "outputs": [
    {
     "name": "stdout",
     "output_type": "stream",
     "text": [
      "The r-value is: 0.6956861954136272\n"
     ]
    },
    {
     "name": "stderr",
     "output_type": "stream",
     "text": [
      "C:\\Users\\jpegr\\Anaconda3\\envs\\PythonData\\lib\\site-packages\\ipykernel_launcher.py:12: SettingWithCopyWarning: \n",
      "A value is trying to be set on a copy of a slice from a DataFrame.\n",
      "Try using .loc[row_indexer,col_indexer] = value instead\n",
      "\n",
      "See the caveats in the documentation: https://pandas.pydata.org/pandas-docs/stable/user_guide/indexing.html#returning-a-view-versus-a-copy\n",
      "  if sys.path[0] == '':\n"
     ]
    },
    {
     "data": {
      "image/png": "[encoded data removed]",
      "text/plain": [
       "<Figure size 432x288 with 1 Axes>"
      ]
     },
     "metadata": {
      "needs_background": "light"
     },
     "output_type": "display_data"
    }
   ],
   "source": [
    "x_values = southern_hem['Lat']\n",
    "y_values = southern_hem['Max Temp']\n",
    "\n",
    "result = stats.linregress(x_values, y_values)\n",
    "slope = result.slope\n",
    "intercept = result.intercept\n",
    "rvalue = result.rvalue\n",
    "\n",
    "print(\"The r-value is:\" , (rvalue))\n",
    "\n",
    "regress_values = x_values * slope + intercept\n",
    "southern_hem['regress Max Temp'] = regress_values\n",
    "\n",
    "plt.scatter(x_values, y_values)\n",
    "plt.plot(x_values, regress_values, color='red')\n",
    "\n",
    "plt.xlabel('Latitude')\n",
    "plt.ylabel('Max Temp')\n",
    "plt.title('Southern Hemisphere - Max Temp vs. Latitude (10/28/20)')\n",
    "\n",
    "eq = f'y = {round(slope, 2)}x + {round(intercept, 2)}'\n",
    "r_squared = f'r^2 = {round(rvalue ** 2, 2)}'\n",
    "\n",
    "plt.annotate(eq, (40, 20.5), color='red')\n",
    "plt.annotate(r_squared, (40, 19), color='red')\n",
    "plt.savefig(\"Images/Southern Hemisphere - Max Temp vs. Latitude Linear Regression.png\")\n",
    "plt.show()"
   ]
  },
  {
   "cell_type": "code",
   "execution_count": null,
   "metadata": {},
   "outputs": [],
   "source": []
  },
  {
   "cell_type": "markdown",
   "metadata": {},
   "source": [
    "####  Northern Hemisphere - Humidity (%) vs. Latitude Linear Regression"
   ]
  },
  {
   "cell_type": "code",
   "execution_count": 34,
   "metadata": {},
   "outputs": [
    {
     "name": "stdout",
     "output_type": "stream",
     "text": [
      "The r-value is: 0.3067563902305573\n"
     ]
    },
    {
     "name": "stderr",
     "output_type": "stream",
     "text": [
      "C:\\Users\\jpegr\\Anaconda3\\envs\\PythonData\\lib\\site-packages\\ipykernel_launcher.py:12: SettingWithCopyWarning: \n",
      "A value is trying to be set on a copy of a slice from a DataFrame.\n",
      "Try using .loc[row_indexer,col_indexer] = value instead\n",
      "\n",
      "See the caveats in the documentation: https://pandas.pydata.org/pandas-docs/stable/user_guide/indexing.html#returning-a-view-versus-a-copy\n",
      "  if sys.path[0] == '':\n"
     ]
    },
    {
     "data": {
      "image/png": "[encoded data removed]",
      "text/plain": [
       "<Figure size 432x288 with 1 Axes>"
      ]
     },
     "metadata": {
      "needs_background": "light"
     },
     "output_type": "display_data"
    }
   ],
   "source": [
    "x_values = northern_hem['Lat']\n",
    "y_values = northern_hem['Humidity']\n",
    "\n",
    "result = stats.linregress(x_values, y_values)\n",
    "slope = result.slope\n",
    "intercept = result.intercept\n",
    "rvalue = result.rvalue\n",
    "\n",
    "print(\"The r-value is:\" , (rvalue))\n",
    "\n",
    "regress_values = x_values * slope + intercept\n",
    "northern_hem['regress Humidity'] = regress_values\n",
    "\n",
    "plt.scatter(x_values, y_values)\n",
    "plt.plot(x_values, regress_values, color='red')\n",
    "\n",
    "plt.xlabel('Latitude')\n",
    "plt.ylabel('Humidity')\n",
    "plt.title('Northern Hemisphere - Humidity (%) vs. Latitude (10/28/20)')\n",
    "\n",
    "eq = f'y = {round(slope, 2)}x + {round(intercept, 2)}'\n",
    "r_squared = f'r^2 = {round(rvalue ** 2, 2)}'\n",
    "\n",
    "plt.annotate(eq, (40, 20.5), color='red')\n",
    "plt.annotate(r_squared, (40, 19), color='red')\n",
    "plt.savefig(\"Images/Northern Hemisphere - Humidity (%) vs. Latitude Linear Regression.png\")\n",
    "plt.show()"
   ]
  },
  {
   "cell_type": "code",
   "execution_count": null,
   "metadata": {},
   "outputs": [],
   "source": []
  },
  {
   "cell_type": "markdown",
   "metadata": {},
   "source": [
    "####  Southern Hemisphere - Humidity (%) vs. Latitude Linear Regression"
   ]
  },
  {
   "cell_type": "code",
   "execution_count": 35,
   "metadata": {},
   "outputs": [
    {
     "name": "stdout",
     "output_type": "stream",
     "text": [
      "The r-value is: 0.1383005159552214\n"
     ]
    },
    {
     "name": "stderr",
     "output_type": "stream",
     "text": [
      "C:\\Users\\jpegr\\Anaconda3\\envs\\PythonData\\lib\\site-packages\\ipykernel_launcher.py:12: SettingWithCopyWarning: \n",
      "A value is trying to be set on a copy of a slice from a DataFrame.\n",
      "Try using .loc[row_indexer,col_indexer] = value instead\n",
      "\n",
      "See the caveats in the documentation: https://pandas.pydata.org/pandas-docs/stable/user_guide/indexing.html#returning-a-view-versus-a-copy\n",
      "  if sys.path[0] == '':\n"
     ]
    },
    {
     "data": {
      "image/png": "[encoded data removed]",
      "text/plain": [
       "<Figure size 432x288 with 1 Axes>"
      ]
     },
     "metadata": {
      "needs_background": "light"
     },
     "output_type": "display_data"
    }
   ],
   "source": [
    "x_values = southern_hem['Lat']\n",
    "y_values = southern_hem['Humidity']\n",
    "\n",
    "result = stats.linregress(x_values, y_values)\n",
    "slope = result.slope\n",
    "intercept = result.intercept\n",
    "rvalue = result.rvalue\n",
    "\n",
    "print(\"The r-value is:\" , (rvalue))\n",
    "\n",
    "regress_values = x_values * slope + intercept\n",
    "southern_hem['regress Humidity'] = regress_values\n",
    "\n",
    "plt.scatter(x_values, y_values)\n",
    "plt.plot(x_values, regress_values, color='red')\n",
    "\n",
    "plt.xlabel('Latitude')\n",
    "plt.ylabel('Humidity')\n",
    "plt.title('Southern Hemisphere - Humidity (%) vs. Latitude (10/28/20)')\n",
    "\n",
    "eq = f'y = {round(slope, 2)}x + {round(intercept, 2)}'\n",
    "r_squared = f'r^2 = {round(rvalue ** 2, 2)}'\n",
    "\n",
    "plt.annotate(eq, (40, 20.5), color='red')\n",
    "plt.annotate(r_squared, (40, 19), color='red')\n",
    "plt.savefig(\"Images/Southern Hemisphere - Humidity (%) vs. Latitude Linear Regression.png\")\n",
    "plt.show()"
   ]
  },
  {
   "cell_type": "code",
   "execution_count": null,
   "metadata": {},
   "outputs": [],
   "source": []
  },
  {
   "cell_type": "markdown",
   "metadata": {},
   "source": [
    "####  Northern Hemisphere - Cloudiness (%) vs. Latitude Linear Regression"
   ]
  },
  {
   "cell_type": "code",
   "execution_count": 36,
   "metadata": {},
   "outputs": [
    {
     "name": "stdout",
     "output_type": "stream",
     "text": [
      "The r-value is: 0.18684473096156873\n"
     ]
    },
    {
     "name": "stderr",
     "output_type": "stream",
     "text": [
      "C:\\Users\\jpegr\\Anaconda3\\envs\\PythonData\\lib\\site-packages\\ipykernel_launcher.py:13: SettingWithCopyWarning: \n",
      "A value is trying to be set on a copy of a slice from a DataFrame.\n",
      "Try using .loc[row_indexer,col_indexer] = value instead\n",
      "\n",
      "See the caveats in the documentation: https://pandas.pydata.org/pandas-docs/stable/user_guide/indexing.html#returning-a-view-versus-a-copy\n",
      "  del sys.path[0]\n"
     ]
    },
    {
     "data": {
      "image/png": "[encoded data removed]",
      "text/plain": [
       "<Figure size 432x288 with 1 Axes>"
      ]
     },
     "metadata": {
      "needs_background": "light"
     },
     "output_type": "display_data"
    }
   ],
   "source": [
    "x_values = northern_hem['Lat']\n",
    "y_values = northern_hem['Cloudiness']\n",
    "\n",
    "result = stats.linregress(x_values, y_values)\n",
    "slope = result.slope\n",
    "intercept = result.intercept\n",
    "rvalue = result.rvalue\n",
    "\n",
    "print(\"The r-value is:\" , (rvalue))\n",
    "\n",
    "# Get regression values\n",
    "regress_values = x_values * slope + intercept\n",
    "northern_hem['regress Cloudiness'] = regress_values\n",
    "\n",
    "plt.scatter(x_values, y_values)\n",
    "plt.plot(x_values, regress_values, color='red')\n",
    "\n",
    "plt.xlabel('Latitude')\n",
    "plt.ylabel('Cloudiness')\n",
    "plt.title('Northern Hemisphere - Cloudiness (%) vs. Latitude (10/28/20)')\n",
    "\n",
    "eq = f'y = {round(slope, 2)}x + {round(intercept, 2)}'\n",
    "r_squared = f'r^2 = {round(rvalue ** 2, 2)}'\n",
    "\n",
    "plt.annotate(eq, (40, 20.5), color='red')\n",
    "plt.annotate(r_squared, (40, 19), color='red')\n",
    "plt.savefig(\"Images/Northern Hemisphere - Cloudiness (%) vs. Latitude Linear Regression.png\")\n",
    "plt.show()"
   ]
  },
  {
   "cell_type": "code",
   "execution_count": null,
   "metadata": {},
   "outputs": [],
   "source": []
  },
  {
   "cell_type": "markdown",
   "metadata": {},
   "source": [
    "####  Southern Hemisphere - Cloudiness (%) vs. Latitude Linear Regression"
   ]
  },
  {
   "cell_type": "code",
   "execution_count": 37,
   "metadata": {},
   "outputs": [
    {
     "name": "stdout",
     "output_type": "stream",
     "text": [
      "The r-value is: 0.13527181693907864\n"
     ]
    },
    {
     "name": "stderr",
     "output_type": "stream",
     "text": [
      "C:\\Users\\jpegr\\Anaconda3\\envs\\PythonData\\lib\\site-packages\\ipykernel_launcher.py:12: SettingWithCopyWarning: \n",
      "A value is trying to be set on a copy of a slice from a DataFrame.\n",
      "Try using .loc[row_indexer,col_indexer] = value instead\n",
      "\n",
      "See the caveats in the documentation: https://pandas.pydata.org/pandas-docs/stable/user_guide/indexing.html#returning-a-view-versus-a-copy\n",
      "  if sys.path[0] == '':\n"
     ]
    },
    {
     "data": {
      "image/png": "[encoded data removed]",
      "text/plain": [
       "<Figure size 432x288 with 1 Axes>"
      ]
     },
     "metadata": {
      "needs_background": "light"
     },
     "output_type": "display_data"
    }
   ],
   "source": [
    "x_values = southern_hem['Lat']\n",
    "y_values = southern_hem['Cloudiness']\n",
    "\n",
    "result = stats.linregress(x_values, y_values)\n",
    "slope = result.slope\n",
    "intercept = result.intercept\n",
    "rvalue = result.rvalue\n",
    "\n",
    "print(\"The r-value is:\" , (rvalue))\n",
    "\n",
    "regress_values = x_values * slope + intercept\n",
    "southern_hem['regress Cloudiness'] = regress_values\n",
    "\n",
    "plt.scatter(x_values, y_values)\n",
    "plt.plot(x_values, regress_values, color='red')\n",
    "\n",
    "plt.xlabel('Latitude')\n",
    "plt.ylabel('Cloudiness')\n",
    "plt.title('Southern Hemisphere - Cloudiness (%) vs. Latitude (10/28/20)')\n",
    "\n",
    "eq = f'y = {round(slope, 2)}x + {round(intercept, 2)}'\n",
    "r_squared = f'r^2 = {round(rvalue ** 2, 2)}'\n",
    "\n",
    "plt.annotate(eq, (40, 20.5), color='red')\n",
    "plt.annotate(r_squared, (40, 19), color='red')\n",
    "plt.savefig(\"Images/Southern Hemisphere - Cloudiness (%) vs. Latitude Linear Regression.png\")\n",
    "plt.show()"
   ]
  },
  {
   "cell_type": "code",
   "execution_count": null,
   "metadata": {},
   "outputs": [],
   "source": []
  },
  {
   "cell_type": "markdown",
   "metadata": {},
   "source": [
    "####  Northern Hemisphere - Wind Speed (mph) vs. Latitude Linear Regression"
   ]
  },
  {
   "cell_type": "code",
   "execution_count": 38,
   "metadata": {},
   "outputs": [
    {
     "name": "stdout",
     "output_type": "stream",
     "text": [
      "The r-value is: 0.22915773106756085\n"
     ]
    },
    {
     "name": "stderr",
     "output_type": "stream",
     "text": [
      "C:\\Users\\jpegr\\Anaconda3\\envs\\PythonData\\lib\\site-packages\\ipykernel_launcher.py:12: SettingWithCopyWarning: \n",
      "A value is trying to be set on a copy of a slice from a DataFrame.\n",
      "Try using .loc[row_indexer,col_indexer] = value instead\n",
      "\n",
      "See the caveats in the documentation: https://pandas.pydata.org/pandas-docs/stable/user_guide/indexing.html#returning-a-view-versus-a-copy\n",
      "  if sys.path[0] == '':\n"
     ]
    },
    {
     "data": {
      "image/png": "[encoded data removed]",
      "text/plain": [
       "<Figure size 432x288 with 1 Axes>"
      ]
     },
     "metadata": {
      "needs_background": "light"
     },
     "output_type": "display_data"
    }
   ],
   "source": [
    "x_values = northern_hem['Lat']\n",
    "y_values = northern_hem['Wind Speed']\n",
    "\n",
    "result = stats.linregress(x_values, y_values)\n",
    "slope = result.slope\n",
    "intercept = result.intercept\n",
    "rvalue = result.rvalue\n",
    "\n",
    "print(\"The r-value is:\" , (rvalue))\n",
    "\n",
    "regress_values = x_values * slope + intercept\n",
    "northern_hem['regress Wind Speed'] = regress_values\n",
    "\n",
    "plt.scatter(x_values, y_values)\n",
    "plt.plot(x_values, regress_values, color='red')\n",
    "\n",
    "plt.xlabel('Latitude')\n",
    "plt.ylabel('Wind Speed')\n",
    "plt.title('Northern Hemisphere - Wind Speed (mph) vs. Latitude (10/28/20)')\n",
    "\n",
    "eq = f'y = {round(slope, 2)}x + {round(intercept, 2)}'\n",
    "r_squared = f'r^2 = {round(rvalue ** 2, 2)}'\n",
    "\n",
    "plt.annotate(eq, (40, 20.5), color='red')\n",
    "plt.annotate(r_squared, (40, 19), color='red')\n",
    "plt.savefig(\"Images/Northern Hemisphere - Wind Speed (mph) vs. Latitude Linear Regression.png\")\n",
    "plt.show()"
   ]
  },
  {
   "cell_type": "code",
   "execution_count": null,
   "metadata": {},
   "outputs": [],
   "source": []
  },
  {
   "cell_type": "markdown",
   "metadata": {},
   "source": [
    "####  Southern Hemisphere - Wind Speed (mph) vs. Latitude Linear Regression"
   ]
  },
  {
   "cell_type": "code",
   "execution_count": 39,
   "metadata": {},
   "outputs": [
    {
     "name": "stdout",
     "output_type": "stream",
     "text": [
      "The r-value is: -0.3212393849389925\n"
     ]
    },
    {
     "name": "stderr",
     "output_type": "stream",
     "text": [
      "C:\\Users\\jpegr\\Anaconda3\\envs\\PythonData\\lib\\site-packages\\ipykernel_launcher.py:12: SettingWithCopyWarning: \n",
      "A value is trying to be set on a copy of a slice from a DataFrame.\n",
      "Try using .loc[row_indexer,col_indexer] = value instead\n",
      "\n",
      "See the caveats in the documentation: https://pandas.pydata.org/pandas-docs/stable/user_guide/indexing.html#returning-a-view-versus-a-copy\n",
      "  if sys.path[0] == '':\n"
     ]
    },
    {
     "data": {
      "image/png": "[encoded data removed]",
      "text/plain": [
       "<Figure size 432x288 with 1 Axes>"
      ]
     },
     "metadata": {
      "needs_background": "light"
     },
     "output_type": "display_data"
    }
   ],
   "source": [
    "x_values = southern_hem['Lat']\n",
    "y_values = southern_hem['Wind Speed']\n",
    "\n",
    "result = stats.linregress(x_values, y_values)\n",
    "slope = result.slope\n",
    "intercept = result.intercept\n",
    "rvalue = result.rvalue\n",
    "\n",
    "print(\"The r-value is:\" , (rvalue))\n",
    "\n",
    "regress_values = x_values * slope + intercept\n",
    "southern_hem['regress Wind Speed'] = regress_values\n",
    "\n",
    "plt.scatter(x_values, y_values)\n",
    "plt.plot(x_values, regress_values, color='red')\n",
    "\n",
    "plt.xlabel('Latitude')\n",
    "plt.ylabel('Wind Speed')\n",
    "plt.title('Southern Hemisphere - Wind Speed (mph) vs. Latitude (10/28/20)')\n",
    "\n",
    "eq = f'y = {round(slope, 2)}x + {round(intercept, 2)}'\n",
    "r_squared = f'r^2 = {round(rvalue ** 2, 2)}'\n",
    "\n",
    "plt.annotate(eq, (40, 20.5), color='red')\n",
    "plt.annotate(r_squared, (40, 19), color='red')\n",
    "plt.savefig(\"Images/Southern Hemisphere - Wind Speed (mph) vs. Latitude Linear Regression.png\")\n",
    "plt.show()"
   ]
  },
  {
   "cell_type": "code",
   "execution_count": null,
   "metadata": {},
   "outputs": [],
   "source": []
  },
  {
   "cell_type": "code",
   "execution_count": null,
   "metadata": {},
   "outputs": [],
   "source": []
  }
 ],
 "metadata": {
  "anaconda-cloud": {},
  "kernel_info": {
   "name": "python3"
  },
  "kernelspec": {
   "display_name": "Python 3",
   "language": "python",
   "name": "python3"
  },
  "language_info": {
   "codemirror_mode": {
    "name": "ipython",
    "version": 3
   },
   "file_extension": ".py",
   "mimetype": "text/x-python",
   "name": "python",
   "nbconvert_exporter": "python",
   "pygments_lexer": "ipython3",
   "version": "3.6.10"
  },
  "latex_envs": {
   "LaTeX_envs_menu_present": true,
   "autoclose": false,
   "autocomplete": true,
   "bibliofile": "biblio.bib",
   "cite_by": "apalike",
   "current_citInitial": 1,
   "eqLabelWithNumbers": true,
   "eqNumInitial": 1,
   "hotkeys": {
    "equation": "Ctrl-E",
    "itemize": "Ctrl-I"
   },
   "labels_anchors": false,
   "latex_user_defs": false,
   "report_style_numbering": false,
   "user_envs_cfg": false
  },
  "nteract": {
   "version": "0.12.3"
  }
 },
 "nbformat": 4,
 "nbformat_minor": 2
}
